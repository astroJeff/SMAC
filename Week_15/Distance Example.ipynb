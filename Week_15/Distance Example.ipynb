{
 "cells": [
  {
   "cell_type": "markdown",
   "metadata": {},
   "source": [
    "# Bayesian Statistical Inference and Markov Chain Monte Carlo"
   ]
  },
  {
   "cell_type": "markdown",
   "metadata": {},
   "source": [
    "We will start with an example from the previous week and build upon it. Say you have a distribution of sources with a strong prior and you observe them with some uncertainty. One example of this is the distribution of distances to stars. Assuming a constant density of stars, the underlying distribution should scale with $r^2$. This is our prior:\n",
    "\n",
    "$$ P(r) \\sim r^2 $$\n",
    "\n",
    "This must be normalized. Obviously we cannot observe stars at an infinite distance, and doing so would cause the prior to diverge. We must impose, somewhat artificially, a maximum distance, $r_max$, to calculate the normalization constant. Our prior becomes:\n",
    "\n",
    "$$ P(r) = 3 \\frac{r^2}{r_{\\rm max}^3} $$"
   ]
  },
  {
   "cell_type": "code",
   "execution_count": 90,
   "metadata": {
    "collapsed": true
   },
   "outputs": [],
   "source": [
    "import numpy as np\n",
    "import matplotlib.pyplot as plt\n",
    "from scipy import stats\n",
    "from scipy import optimize as so\n",
    "from scipy.integrate import quad\n",
    "import time\n",
    "\n",
    "%matplotlib inline"
   ]
  },
  {
   "cell_type": "markdown",
   "metadata": {},
   "source": [
    "### First, let's generate a sample from an exponential and add Gaussian noise"
   ]
  },
  {
   "cell_type": "code",
   "execution_count": 91,
   "metadata": {
    "collapsed": false
   },
   "outputs": [
    {
     "data": {
      "image/png": "[encoded data removed]",
      "text/plain": [
       "<matplotlib.figure.Figure at 0x10da132e8>"
      ]
     },
     "metadata": {},
     "output_type": "display_data"
    }
   ],
   "source": [
    "# Draw random distances using inverse sampling\n",
    "N_stars=1000\n",
    "dist_max = 1.0 # in kpc\n",
    "dist = (np.random.uniform(size=N_stars))**(1.0/3.0) * dist_max\n",
    "\n",
    "# Plot sample\n",
    "bins = np.linspace(0.0, 1.0, 30)\n",
    "plt.hist(dist, bins=bins, normed=True, label='True Distance')\n",
    "\n",
    "# Plot analytic\n",
    "plt.plot(bins, 3.0 * bins**2 * dist_max**-3, linewidth=2.0, label='Analytic')\n",
    "\n",
    "# Now add uncertainties of 100 pc\n",
    "dist_obs = dist + np.random.normal(size=size, scale=0.1)\n",
    "# Array of errors\n",
    "dist_err = 0.1 * np.ones(len(dist_obs))\n",
    "\n",
    "\n",
    "bins = np.linspace(0.0, 1.3, 30)\n",
    "plt.hist(dist_obs, bins=bins, normed=True, histtype='step', \n",
    "         linewidth=2.0, color='k', label='Observed Distance')\n",
    "\n",
    "\n",
    "plt.xlabel(\"Distance\")\n",
    "plt.ylabel(\"Probability Density\")\n",
    "\n",
    "plt.legend(loc=2)\n",
    "\n",
    "plt.show()"
   ]
  },
  {
   "cell_type": "markdown",
   "metadata": {},
   "source": [
    "### First model: recover the exponential in the power law ignoring uncertainties"
   ]
  },
  {
   "cell_type": "markdown",
   "metadata": {},
   "source": [
    "Let's imagine that we do not know the exponential in the power law, $\\alpha$, and we want to solve for it. The correct answer is be 2. Let's see if we can recover that.\n",
    "\n",
    "We start with our probability notation. We want to determine $P(\\alpha | \\{ r \\})$. We use our Bayesian formalism to split this into a prior and a likelihood:\n",
    "\n",
    "$$ P(\\alpha | \\{ r \\}) = \\frac{1}{\\mathcal{Z}} P(\\{ r \\} | \\alpha) P(\\alpha), $$\n",
    "\n",
    "where $\\mathcal{Z}$ is a normalization constant, which we have previously called the \"evidence.\" \n",
    "\n",
    "Prior: $P(\\alpha)$  \n",
    "Likelihood: $P(\\{ r \\} | \\alpha)$\n",
    "\n",
    "#### What should the prior look like?\n",
    "\n",
    "In this case the prior will have a minimal effect, but we would like to constrain it to positive values though. Our prior will be:\n",
    "$$ P(\\alpha) = \\cases{0 : \\alpha <= 0 \\\\ 1 : \\alpha > 0} $$\n",
    "\n",
    "NOTE: This prior is technically unnormalized and is therefore called an \"improper prior.\" We could fix this by additionally setting a maximum value for $\\alpha$ and setting the prior to $1/\\alpha_{\\rm max}$ for $0 < \\alpha < \\alpha_{\\rm max}$. For simplicity, we will keep this prior unnormalized though.\n",
    "\n",
    "#### What about the likelihood?\n",
    "\n",
    "This is seemingly quite simple but can lead to much hand-wringing if you think about it too much. I will state it unproven here: the overal likelihood is the product of the likelihood of each data point, and the likelihood of each data point is the *normalized* probability density function evaluated at each data point:\n",
    "\n",
    "$$ P(\\{ r \\} | \\alpha) = \\prod P(r | \\alpha) $$\n",
    "where\n",
    "$$ P(r | \\alpha) = (\\alpha+1) \\frac{r^{\\alpha}}{r_{\\rm max}^{\\alpha + 1}} $$\n",
    "\n",
    "#### Converting to the log of the posterior\n",
    "\n",
    "For numerical simplicity, we use the (natural) log of the posterior, and therefore the log of the prior and the posterior. These become:\n",
    "\n",
    "$$ \\log P(\\alpha) = \\cases{-\\infty : \\alpha <= 0 \\\\ 0 : \\alpha > 0} $$\n",
    "$$ \\log P(\\{ r \\} | \\alpha) = \\sum \\log \\left[ (\\alpha+1) \\frac{r^{\\alpha}}{r_{\\rm max}^{\\alpha + 1}} \\right] $$\n",
    "\n",
    "and the posterior is the sum of these two factors (we ignore $\\mathcal{Z}$ here):\n",
    "\n",
    "$$ \\log P(\\alpha | \\{ r \\}) = \\log P(\\alpha) + \\log P(\\{ r \\} | \\alpha) $$\n",
    "\n",
    "### Now, some code"
   ]
  },
  {
   "cell_type": "code",
   "execution_count": 92,
   "metadata": {
    "collapsed": false
   },
   "outputs": [],
   "source": [
    "# This is the normalized pdf for arbitrary alpha\n",
    "def func_pdf(alpha, x_max, x):\n",
    "    P_x = (alpha+1.0) * x**(alpha) / dist_max**(alpha+1.0)\n",
    "    P_x[x>x_max] = 0.0 \n",
    "    P_x[x<0.0] = 0.0\n",
    "    \n",
    "    return P_x\n",
    "\n",
    "def ln_prior(alpha):\n",
    "    if alpha < 0.0:\n",
    "        return -np.inf\n",
    "    \n",
    "    return 0.0\n",
    "\n",
    "\n",
    "def ln_likelihood(alpha, x_max, x_obs):\n",
    "    return np.sum(np.log(func_pdf(alpha, x_max, x_obs)))\n",
    "\n",
    "\n",
    "def ln_posterior(alpha, x_max, x_obs):\n",
    "    \n",
    "    lp = ln_prior(alpha)\n",
    "    ll = ln_likelihood(alpha, x_max, x_obs)\n",
    "        \n",
    "    return lp+ll\n",
    "\n",
    "\n",
    "def neg_ln_posterior(alpha, x_max, x_obs):\n",
    "    return -ln_posterior(alpha, x_max, x_obs)"
   ]
  },
  {
   "cell_type": "code",
   "execution_count": 93,
   "metadata": {
    "collapsed": false
   },
   "outputs": [
    {
     "name": "stdout",
     "output_type": "stream",
     "text": [
      "Expected result: 2.0\n",
      "Result: [ 1.9399843]\n"
     ]
    }
   ],
   "source": [
    "# We will give it the wrong starting value\n",
    "p0 = 1.0\n",
    "\n",
    "res = so.minimize(neg_ln_posterior, p0, args=(1.0, dist))\n",
    "if res.success:\n",
    "    print(\"Expected result: 2.0\")\n",
    "    print(\"Result:\", res.x)\n",
    "else:\n",
    "    print(\"Optimization failed\")"
   ]
  },
  {
   "cell_type": "markdown",
   "metadata": {},
   "source": [
    "### Next, let's see if we can account for the observational uncertainties"
   ]
  },
  {
   "cell_type": "markdown",
   "metadata": {},
   "source": [
    "Let's first try to run our simple model on the observed distances."
   ]
  },
  {
   "cell_type": "code",
   "execution_count": 94,
   "metadata": {
    "collapsed": false
   },
   "outputs": [
    {
     "name": "stdout",
     "output_type": "stream",
     "text": [
      "Expected result: 2.0\n",
      "Result: [ 1.]\n"
     ]
    },
    {
     "name": "stderr",
     "output_type": "stream",
     "text": [
      "/Users/jeffandrews/anaconda3/lib/python3.5/site-packages/ipykernel/__main__.py:17: RuntimeWarning: divide by zero encountered in log\n",
      "/Users/jeffandrews/anaconda3/lib/python3.5/site-packages/scipy/optimize/optimize.py:628: RuntimeWarning: invalid value encountered in double_scalars\n",
      "  grad[k] = (f(*((xk + d,) + args)) - f0) / d[k]\n"
     ]
    }
   ],
   "source": [
    "res = so.minimize(neg_ln_posterior, p0, args=(1.0, dist_obs))\n",
    "if res.success:\n",
    "    print(\"Expected result: 2.0\")\n",
    "    print(\"Result:\", res.x)\n",
    "else:\n",
    "    print(\"Optimization failed\")"
   ]
  },
  {
   "cell_type": "markdown",
   "metadata": {},
   "source": [
    "The code broke. Why did this happen? The short answer is that, since we have added some observational uncertainties, the observed distribution has negative distances and distances above the maximum allowed by our likelihood function. We can try a few small hacks to get around this. First, we can set every negative distance to something very small and positive and every distance above dist_max to 99% of dist_max. As an alternative hack, we can remove these data from our sample. See the code below.\n",
    "\n",
    "NOTE: This is entirely unjustified statistically. We would like to perform the proper treatment which is further below."
   ]
  },
  {
   "cell_type": "code",
   "execution_count": 96,
   "metadata": {
    "collapsed": false
   },
   "outputs": [
    {
     "name": "stdout",
     "output_type": "stream",
     "text": [
      "Expected result: 2.0\n",
      "Result: [ 1.79841101]\n",
      "Expected result: 2.0\n",
      "Result: [ 1.]\n"
     ]
    }
   ],
   "source": [
    "dist_obs_hack = np.copy(dist_obs)\n",
    "dist_obs_hack[dist_obs_hack < 0.0] = 0.01\n",
    "dist_obs_hack[dist_obs_hack > 1.0] = 0.99\n",
    "\n",
    "res = so.minimize(neg_ln_posterior, p0, args=(1.0, dist_obs_hack))\n",
    "if res.success:\n",
    "    print(\"Expected result: 2.0\")\n",
    "    print(\"Result:\", res.x)\n",
    "else:\n",
    "    print(\"Optimization failed\")\n",
    "    \n",
    "    \n",
    "dist_obs_hack = np.copy(dist_obs)\n",
    "dist_obs_hack = dist_obs_hack[dist_obs_hack < 0.0]\n",
    "dist_obs_hack = dist_obs_hack[dist_obs_hack > 1.0]\n",
    "\n",
    "res = so.minimize(neg_ln_posterior, p0, args=(1.0, dist_obs_hack))\n",
    "if res.success:\n",
    "    print(\"Expected result: 2.0\")\n",
    "    print(\"Result:\", res.x)\n",
    "else:\n",
    "    print(\"Optimization failed\")"
   ]
  },
  {
   "cell_type": "markdown",
   "metadata": {},
   "source": [
    "It should be no surprise that this failed - we are doing the *wrong* thing.\n",
    "\n",
    "#### Let's do the right thing\n",
    "\n",
    "We want to convolve the power law distribution with Gaussian uncertainties corresponding the the observational errors. Why is this justified? Consider a star observed at a distance of 0.5 kpc. Obviously, its real distance is not actually 0.5 kpc. Instead, we can only say its distance is characterized by a Gaussian around the observed, multiplied by the underlying distance distribution, our power law. In fact, this defines our new likelihood function for individual data points:\n",
    "\n",
    "$$ P( r | \\alpha) = \\int dr' \\mathcal{N}(r' | r, \\sigma_r) (\\alpha+1) \\frac{r'^{\\alpha}}{r_{\\rm max}^{\\alpha + 1}} $$\n",
    "\n",
    "Hopefully this makes some intuitive sense.\n",
    "\n",
    "#### The Bayesian derivation\n",
    "\n",
    "Let's define the difference between the observed distance ($r_{\\rm obs}$) and the true, underlying distance ($r_{\\rm true}$). First, we take our likelihood for an individual observation and marginalize over the underlying distance, $r_{\\rm true}$:\n",
    "\n",
    "$$ P( r_{\\rm obs} | \\alpha) = \\int_{-\\infty}^{\\infty} dr_{\\rm true} P(r_{\\rm true}, r_{\\rm obs} | \\alpha) $$\n",
    "$$ P( r_{\\rm obs} | \\alpha) = \\int_{0}^{r_{\\rm max}} dr_{\\rm true} P(r_{\\rm obs} | r_{\\rm true}) P(r_{\\rm true} | \\alpha) $$\n",
    "\n",
    "$P(r_{\\rm obs} | r_{\\rm true})$ is the Gaussian uncertainty on the observation, and $P(r_{\\rm true} | \\alpha)$ is the power law distribution previously defined. Remember that the power law is the distribution in $r_{\\rm true}$ not $r_{\\rm obs}$.\n",
    "\n",
    "By inserting these terms into the above equation, we realize that it is identical to the intuitive equation we derived above ($r_{\\rm obs} = r; r_{\\rm true} = r'$).\n",
    "\n",
    "Notice that the code will take a substantially longer time to run - this is due to the addition of only one integral within the minimzation routine. If you are marginalizing over two or three parameters (simultaneously dealing with two or three observational uncertainties) the problem can quickly become intractable.\n",
    "\n",
    "#### Code, with our updated likelihood function"
   ]
  },
  {
   "cell_type": "code",
   "execution_count": 97,
   "metadata": {
    "collapsed": true
   },
   "outputs": [],
   "source": [
    "# This is the normalized pdf for arbitrary alpha\n",
    "def func_pdf(alpha, x_max, x):\n",
    "    P_x = (alpha+1.0) * x**(alpha) / dist_max**(alpha+1.0)\n",
    "    \n",
    "    if type(x) is np.ndarray:\n",
    "        P_x[x>x_max] = 0.0 \n",
    "        P_x[x<0.0] = 0.0\n",
    "    elif x>x_max:\n",
    "        return 0.0\n",
    "    elif x<0.0:\n",
    "        return 0.0\n",
    "    else:\n",
    "        pass\n",
    "        \n",
    "    return P_x\n",
    "\n",
    "def func_integrand(x, alpha, x_max, x_obs, x_err):\n",
    "    return stats.norm.pdf(x, loc=x_obs, scale=x_err) * func_pdf(alpha, x_max, x)\n",
    "\n",
    "def ln_prior(alpha):\n",
    "    if alpha < 0.0:\n",
    "        return -np.inf\n",
    "    \n",
    "    return 0.0\n",
    "\n",
    "\n",
    "def ln_likelihood(alpha, x_max, x_obs, x_err):\n",
    "    \n",
    "    ln_likelihood = 0.0\n",
    "    for i in range(len(x_obs)):\n",
    "        \n",
    "        # Limits are either the limits of the pdf or 5 sigma from the observed value\n",
    "        a = max(0.0, x_obs[i]-3.0*x_err[i])\n",
    "        b = min(x_max, x_obs[i]+3.0*x_err[i])\n",
    "        \n",
    "        val = quad(func_integrand, a, b, args=(alpha, x_max, x_obs[i], x_err[i]), \n",
    "                   epsrel=1.0e-4, epsabs=1.0e-4)\n",
    "        ln_likelihood += np.log(val[0])\n",
    "    \n",
    "    return ln_likelihood\n",
    "\n",
    "\n",
    "def ln_posterior(alpha, x_max, x_obs, x_err):\n",
    "    \n",
    "    lp = ln_prior(alpha)\n",
    "    ll = ln_likelihood(alpha, x_max, x_obs, x_err)\n",
    "                        \n",
    "    return lp+ll\n",
    "\n",
    "\n",
    "def neg_ln_posterior(alpha, x_max, x_obs, x_err):\n",
    "    return -ln_posterior(alpha, x_max, x_obs, x_err)"
   ]
  },
  {
   "cell_type": "code",
   "execution_count": 105,
   "metadata": {
    "collapsed": false
   },
   "outputs": [
    {
     "name": "stdout",
     "output_type": "stream",
     "text": [
      "Expected result: 2.0\n",
      "Result: [ 1.94863517]\n",
      "Elapsed time: 103.32101392745972 seconds\n"
     ]
    },
    {
     "data": {
      "image/png": "[encoded data removed]",
      "text/plain": [
       "<matplotlib.figure.Figure at 0x10e31b358>"
      ]
     },
     "metadata": {},
     "output_type": "display_data"
    }
   ],
   "source": [
    "# We will give it the wrong starting value\n",
    "p0 = 4.0\n",
    "dist_max = 1.0\n",
    "\n",
    "tmp_x = np.linspace(0.1, 4.0, 30)\n",
    "tmp_y = np.zeros(len(tmp_x))\n",
    "for i in range(len(tmp_x)):\n",
    "    tmp_y[i] = neg_ln_posterior(tmp_x[i], dist_max, dist_obs, dist_err)\n",
    "plt.plot(tmp_x, tmp_y)\n",
    "\n",
    "\n",
    "start = time.time()\n",
    "res = so.minimize(neg_ln_posterior, p0, args=(dist_max, dist_obs, dist_err))\n",
    "end = time.time()\n",
    "\n",
    "if res.success:\n",
    "    print(\"Expected result: 2.0\")\n",
    "    print(\"Result:\", res.x)\n",
    "else:\n",
    "    print(\"Optimization failed\")\n",
    "    \n",
    "print(\"Elapsed time:\", end-start, \"seconds\")\n",
    "\n",
    "plt.axvline(res.x)\n",
    "\n",
    "plt.xlabel(r\"$\\alpha$\")\n",
    "plt.ylabel(r\"$\\mathcal{L}$\")\n",
    "plt.show()"
   ]
  },
  {
   "cell_type": "markdown",
   "metadata": {},
   "source": [
    "### How do we determine uncertainties?\n",
    "\n",
    "Determining uncertainties on your model is a tricky thing. If the sample were just Gaussian error bars, with known uncertainties, our understanding of $\\chi^2$ distributions can help us out here. Unfortunately, only a small set of problems are conducive to $\\chi^2$ distributions.\n",
    "\n",
    "### Markov Chain Monte Carlo!\n",
    "\n",
    "This is one of a few ways of calculating uncertainties, but this one is a flexible, robust, and relatively simple method. \n",
    "\n",
    "We will discuss the Metropolis-Hastings algorithm, but note that there are *many* others out there. Here are the steps in the sequence:\n",
    "\n",
    "1. We start with one set of parameters $\\theta_1$. In our case, $\\theta_1$ is simply $\\alpha$ since we have only one parameter in our model, but to keep the discussion generalized, we will imagine that $\\theta$ can contain 1, 5, or even a million separate parameters. This first value starts our Markov chain. \n",
    "\n",
    "2. Using some method we obtain a new trial set of parameters $\\theta_2$. It is important that this set is chosen randomly, but based on the first set. This is one place where the \"Monte Carlo\" in MCMC comes from. The simplest method to obtain our new parameter values will be to add some random (Gaussian?) noise to our current value: $\\theta_2 = \\theta_1 + \\epsilon$. You typically want to tune the value for $\\epsilon$ to optimize the process.\n",
    "\n",
    "3. Now, we want to calculate and compare the posterior probabilities for both $\\theta_1$ and $\\theta_2$. If $\\frac{\\theta_2}{\\theta_1} > 1$ (i.e., the new parameter is better than the current one) we always move the chain to $\\theta_2$. If $\\frac{\\theta_2}{\\theta_1} < 1$ we *might* move the chain to $\\theta_2$; we move to $\\theta_2$ with probability $\\frac{\\theta_2}{\\theta_1}$. In practice, we draw a random number from a uniform distribution between 0 and 1. If that random number is less than $\\frac{\\theta_2}{\\theta_1}$, we move the chain to $\\theta_2$. If, instead that random number is greater than $\\frac{\\theta_2}{\\theta_1}$, we keep $\\theta_1$ for another iteration.\n",
    "\n",
    "4. Now that we have our new value for $\\theta$, we return to step 2 and repeat for as many iterations as we want. Often this is in the thousands or more.\n",
    "\n",
    "#### Let's code it up"
   ]
  },
  {
   "cell_type": "code",
   "execution_count": 119,
   "metadata": {
    "collapsed": true
   },
   "outputs": [],
   "source": [
    "def metro_hastings(ln_posterior, theta_0, N_steps, args=[]):\n",
    "    \n",
    "    chain = np.zeros(N_steps)\n",
    "    chain[0] = theta_0\n",
    "    \n",
    "    for i in range(N_steps-1):\n",
    "        theta_trial = chain[i] + np.random.normal(scale=0.1)\n",
    "        \n",
    "#         print(chain[i], theta_trial)\n",
    "        \n",
    "        chain[i+1] = one_step(theta_trial, chain[i], ln_posterior, args)\n",
    "            \n",
    "    return chain\n",
    "\n",
    "\n",
    "def one_step(theta_1, theta_2, ln_posterior, args=[]):\n",
    "    \n",
    "    if args is None:\n",
    "        ln_posterior_1 = ln_posterior(theta_1)\n",
    "        ln_posterior_2 = ln_posterior(theta_2)\n",
    "    else:\n",
    "        ln_posterior_1 = ln_posterior(theta_1, *args)\n",
    "        ln_posterior_2 = ln_posterior(theta_2, *args)\n",
    "\n",
    "    if ln_posterior_2 > ln_posterior_1: \n",
    "        return theta_2\n",
    "        \n",
    "        \n",
    "    ran_y = np.random.uniform()\n",
    "    \n",
    "    if ran_y > np.exp(ln_posterior_2 - ln_posterior_1): \n",
    "        return theta_1\n",
    "    else:\n",
    "        return theta_2"
   ]
  },
  {
   "cell_type": "code",
   "execution_count": 122,
   "metadata": {
    "collapsed": false
   },
   "outputs": [
    {
     "name": "stdout",
     "output_type": "stream",
     "text": [
      "Elapsed time: 377.74355602264404 seconds\n"
     ]
    }
   ],
   "source": [
    "start = time.time()\n",
    "\n",
    "alpha_0 = 3.0\n",
    "chain = metro_hastings(ln_posterior, alpha_0, args=(dist_max, dist_obs, dist_err), N_steps=500)\n",
    "\n",
    "end = time.time()\n",
    "print(\"Elapsed time:\", end-start, \"seconds\")"
   ]
  },
  {
   "cell_type": "code",
   "execution_count": 123,
   "metadata": {
    "collapsed": false
   },
   "outputs": [
    {
     "data": {
      "image/png": "[encoded data removed]",
      "text/plain": [
       "<matplotlib.figure.Figure at 0x10dee7710>"
      ]
     },
     "metadata": {},
     "output_type": "display_data"
    }
   ],
   "source": [
    "plt.plot(chain)\n",
    "plt.show()"
   ]
  },
  {
   "cell_type": "markdown",
   "metadata": {
    "collapsed": true
   },
   "source": [
    "### One note about calculating integrals\n",
    "\n",
    "Particularly when it comes to Gaussians, it is often easier to calculate integrals using Monte Carlo methods, rather than typical integration techniques. The basic idea: We draw $N$ random draws of $x$ from the distribution $F(x)$, then take the average of $G(x)$ evaluated at these randomly drawn $x_k$.\n",
    "\n",
    "$$ \\int_{\\infty}^{\\infty}\\ F(x)\\ G(x)\\ dx \\approx \\frac{1}{N} \\sum^N_k G(x_k) $$\n",
    "$$ x_k \\sim F(x) $$\n",
    "\n",
    "This can help *drastically* speed up the integration, but it depends on your required accuracy. Broad testing is required to really understand both the required $N$ necessary for your target accuracy and if this is more efficient than scipy.optimize's quad function, or some other numerical integration method.\n",
    "\n",
    "#### Some code to speed up the integration\n",
    "\n",
    "We rewrite the likelihood function. Everything else remains the same"
   ]
  },
  {
   "cell_type": "code",
   "execution_count": 117,
   "metadata": {
    "collapsed": true
   },
   "outputs": [],
   "source": [
    "def ln_likelihood(alpha, x_max, x_obs, x_err):\n",
    "    \n",
    "    ln_likelihood = 0.0\n",
    "    for i in range(len(x_obs)):\n",
    "        \n",
    "        a, b = (0.0 - x_obs[i]) / x_err[i], (x_max - x_obs[i]) / x_err[i]\n",
    "#         ran_x = stats.norm.rvs(loc=x_obs[i], scale=x_err[i], size=10000)\n",
    "        ran_x = stats.truncnorm.rvs(a, b, loc=x_obs[i], scale=x_err[i], size=1000)\n",
    "        \n",
    "        \n",
    "        ran_y = func_pdf(alpha, x_max, ran_x)\n",
    "        \n",
    "        ln_likelihood += np.log(np.mean(ran_y))\n",
    "    \n",
    "    return ln_likelihood"
   ]
  },
  {
   "cell_type": "markdown",
   "metadata": {},
   "source": [
    "### Burn in\n",
    "\n",
    "The first steps in the chain are not in the optimal regime. This is called the \"burn-in\" and is thrown away. In principle, there is no absolute way to determine if your chains have converged to the optimal region of parameter space. In practice, unless your problem is pathological, it is usually pretty obvious. Do remember this can be an issue and take care!"
   ]
  },
  {
   "cell_type": "code",
   "execution_count": 132,
   "metadata": {
    "collapsed": false
   },
   "outputs": [
    {
     "data": {
      "image/png": "[encoded data removed]",
      "text/plain": [
       "<matplotlib.figure.Figure at 0x10dfdeac8>"
      ]
     },
     "metadata": {},
     "output_type": "display_data"
    }
   ],
   "source": [
    "plt.axvline(13, color='k', linewidth=20, alpha=0.3)\n",
    "\n",
    "plt.plot(chain)\n",
    "\n",
    "plt.text(30, 2.8, \"Burn-in\")\n",
    "\n",
    "chain_converged = chain[25:]\n",
    "\n",
    "plt.xlim(0,500)\n",
    "plt.show()"
   ]
  },
  {
   "cell_type": "markdown",
   "metadata": {},
   "source": [
    "### Acceptance fraction\n",
    "\n",
    "The optimal acceptance fraction is 23.4%. I've never seen the derivation of this number, but I'm sure it exists in various places online. By tuning $\\epsilon$, we can try to get as close as possible to 23%."
   ]
  },
  {
   "cell_type": "code",
   "execution_count": 133,
   "metadata": {
    "collapsed": false
   },
   "outputs": [
    {
     "name": "stdout",
     "output_type": "stream",
     "text": [
      "Acceptance fraction: 0.07789473684210527\n"
     ]
    }
   ],
   "source": [
    "N_accepted = 0\n",
    "\n",
    "for i in range(len(chain_converged)-1):\n",
    "    if chain_converged[i] != chain_converged[i+1]:\n",
    "        N_accepted += 1\n",
    "        \n",
    "print(\"Acceptance fraction:\", N_accepted/len(chain_converged))"
   ]
  },
  {
   "cell_type": "markdown",
   "metadata": {},
   "source": [
    "Our acceptance fraction is low. We can increase this by decreasing $\\epsilon$, but note this should increase the burn-in time."
   ]
  },
  {
   "cell_type": "markdown",
   "metadata": {},
   "source": [
    "### Autocorrelation\n",
    "\n",
    "Each link in the Markov Chain is not independent. Why? Because each data point is related to the previous one. Therefore not every link is an independent data point. Only every $N$ number of data points are independent. The easiest way to find $N$, is to take the offset at which the autocorrelation is approximatly zero. If we want to be rigorous about it, we should only report 1/$N$ samples in our final result.\n"
   ]
  },
  {
   "cell_type": "markdown",
   "metadata": {},
   "source": [
    "### Our results\n",
    "\n",
    "Now, we can plot the posterior distribution of $\\alpha$ to obtain our final result."
   ]
  },
  {
   "cell_type": "code",
   "execution_count": 135,
   "metadata": {
    "collapsed": false
   },
   "outputs": [
    {
     "name": "stdout",
     "output_type": "stream",
     "text": [
      "Maximum a posteriori value: 1.9242045347\n",
      "1-sigma confidence level: 1.91148200862 1.99385762073\n"
     ]
    },
    {
     "data": {
      "image/png": "[encoded data removed]",
      "text/plain": [
       "<matplotlib.figure.Figure at 0x10e31b470>"
      ]
     },
     "metadata": {},
     "output_type": "display_data"
    }
   ],
   "source": [
    "plt.hist(chain_converged)\n",
    "\n",
    "chain_sorted = np.sort(chain_converged)\n",
    "print(\"Maximum a posteriori value:\", np.median(chain_sorted))\n",
    "print(\"1-sigma confidence level:\", \n",
    "      chain_sorted[int(0.16*len(chain_sorted))],\n",
    "      chain_sorted[int(0.84*len(chain_sorted))])\n",
    "\n",
    "\n",
    "plt.show()"
   ]
  },
  {
   "cell_type": "markdown",
   "metadata": {},
   "source": [
    "### What about for a single system?"
   ]
  },
  {
   "cell_type": "markdown",
   "metadata": {},
   "source": [
    "Now that we have identified the overall distribution, what if we want to know the distance to a single system? We can again use our Bayesian math here.\n",
    "\n",
    "$$ P(r_{\\rm real} | \\{r_{\\rm obs}\\}) = \\int_{-\\infty}^{\\infty} d\\alpha\\ P(r_{\\rm real}, \\alpha | \\{r_{\\rm obs}\\}) $$\n",
    "$$ P(r_{\\rm real} | \\{r_{\\rm obs}\\}) = \\int_{-\\infty}^{\\infty} d\\alpha\\ P(r_{\\rm real} | r_{\\rm obs}, \\alpha)\\ P(\\alpha | \\{r_{\\rm obs}\\}) $$\n",
    "\n",
    "#### Here's where Bayesian statistics really shines. \n",
    "\n",
    "If we wanted to use frequentist statistics, we would take the Gaussian approximation to $P(\\alpha | \\{r_{\\rm obs}\\})$ that we found above: 1.95$\\pm$0.04. We would then calculate the integral above. \n",
    "\n",
    "Instead, we can directly use samples from the posterior distribution of $\\alpha$ which we calculated from our MCMC model to calculate the integral:\n",
    "$$ P(r_{\\rm real} | \\{r_{\\rm obs}\\}) = \\frac{1}{N} \\sum_k P(r_{\\rm real} | r_{\\rm obs}, \\alpha_k) $$\n",
    "\n",
    "This term inside the sum is simply the integrand that we had originally calculated:\n",
    "$$ P(r_{\\rm real} | r_{\\rm obs}, \\alpha_k) = \\mathcal{N}(r_{\\rm real} | r_{\\rm obs}, \\sigma_r) (\\alpha+1) \\frac{r_{\\rm real}^{\\alpha}}{r_{\\rm max}^{\\alpha + 1}}$$\n",
    "\n",
    "#### Some code"
   ]
  },
  {
   "cell_type": "code",
   "execution_count": 152,
   "metadata": {
    "collapsed": false
   },
   "outputs": [
    {
     "data": {
      "image/png": "[encoded data removed]",
      "text/plain": [
       "<matplotlib.figure.Figure at 0x10f2a6588>"
      ]
     },
     "metadata": {},
     "output_type": "display_data"
    }
   ],
   "source": [
    "def prob_r(alpha_chain, r_real, r_obs, r_err):\n",
    "\n",
    "    term_1 = stats.norm.pdf(r_real, loc=r_obs, scale=r_err)\n",
    "    return term_1 * np.mean(func_pdf(alpha_chain, dist_max, r_real))\n",
    "\n",
    "\n",
    "ran_i = np.random.randint(len(dist_obs), size=5)\n",
    "\n",
    "fig, ax = plt.subplots(5, 1, figsize=(4,8))\n",
    "\n",
    "\n",
    "tmp_x = np.linspace(0.0, 1.0, 100)\n",
    "tmp_y = np.zeros(len(tmp_x))\n",
    "\n",
    "for j in range(5):\n",
    "    for i in range(len(tmp_y)):\n",
    "        tmp_y[i] = prob_r(chain_converged, tmp_x[i], dist_obs[ran_i[j]], dist_err[ran_i[j]])\n",
    "\n",
    "\n",
    "    ax[j].plot(tmp_x, tmp_y, label='Posterior')\n",
    "    ax[j].axvline(dist_obs[ran_i[j]], color='r', label=\"Observed\")\n",
    "    ax[j].axvline(dist[ran_i[j]], color='k', label='True')\n",
    "\n",
    "ax[0].legend(loc=2)\n",
    "plt.tight_layout()\n",
    "plt.show()"
   ]
  },
  {
   "cell_type": "code",
   "execution_count": null,
   "metadata": {
    "collapsed": true
   },
   "outputs": [],
   "source": []
  }
 ],
 "metadata": {
  "anaconda-cloud": {},
  "kernelspec": {
   "display_name": "Python [default]",
   "language": "python",
   "name": "python3"
  },
  "language_info": {
   "codemirror_mode": {
    "name": "ipython",
    "version": 3
   },
   "file_extension": ".py",
   "mimetype": "text/x-python",
   "name": "python",
   "nbconvert_exporter": "python",
   "pygments_lexer": "ipython3",
   "version": "3.5.2"
  }
 },
 "nbformat": 4,
 "nbformat_minor": 1
}
