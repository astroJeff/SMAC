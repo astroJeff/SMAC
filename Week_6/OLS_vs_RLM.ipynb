{
 "cells": [
  {
   "cell_type": "markdown",
   "metadata": {},
   "source": [
    "## Regression diagnostics & Regression robust to outliers\n",
    "\n",
    "For the standard least-squares regression the use of an $L_{2}$ norm (mean square error) results in outliers that have substantial leverage in any fit (contributing as the square of the systematic deviation). If we knew $e(y_i|y)$ then we would simply include the error distribution when defining the likelihood. When we do not have a priori knowledge of $e(y_i|y)$, things become more difficult. An example of the latter would be the adoption of the $L_1$ norm, $\\sum_i ||y_i − w_i x_i || $, which is less sensitive to outliers than the $L_2$ norm. Minimizing the $L_1$ norm is essentially finding the median. The drawback of this least absolute value regression is that there is no closed-form solution and we must\n",
    "minimize the likelihood space using an iterative approach.\n",
    "Other approaches to robust regression adopt an approach that seeks to reject outliers. In the astronomical community this is usually referred to as “sigma clipping” and is undertaken in an iterative manner by progressively pruning data points that are not well represented by the model.\n",
    "M estimators (M stands for “maximum-likelihood-type”) approach the problem of outliers by modifying the underlying likelihood estimator to be less sensitive than the classic $L_2$ norm. M estimators are a class of estimators that include many maximum-likelihood approaches (including least squares). They replace the standard least squares, which minimizes the sum of the squares of the residuals between a data value and the model, with a different function. Ideally the M estimator has the property that it increases less than the square of the residual and has a unique minimum at zero."
   ]
  },
  {
   "cell_type": "code",
   "execution_count": 1,
   "metadata": {
    "collapsed": false
   },
   "outputs": [],
   "source": [
    "import operator\n",
    "import numpy as np\n",
    "import statsmodels.api as sm\n",
    "import matplotlib.pyplot as plt\n",
    "from statsmodels.sandbox.regression.predstd import wls_prediction_std\n",
    "import warnings\n",
    "warnings.filterwarnings('ignore')\n",
    "%matplotlib inline\n",
    "\n",
    "##################DATA#####################################\n",
    "# distances in Mpc\n",
    "r = [ 0.032, 0.034, 0.214, 0.263, 0.275, 0.275, 0.45, 0.5,\n",
    "      0.5,   0.63,  0.8,   0.9,   0.9,   0.9,   0.9,  1.0,\n",
    "      1.1,   1.1,   1.4,   1.7,   2.0,   2.0,   2.0,  2.0 , 1.6, 1.7, 1.8 ]\n",
    "\n",
    "# velocities in km/s\n",
    "v = [ +170, +290, -130, -70,  -185, -220, +200, +290,\n",
    "      +270, +200, +300, -30,  +650, +150, +500, +920,\n",
    "      +450, +500, +500, +960, +500, +850, +800, +1090 , - 1050 , -800, -925 ]\n",
    "\n",
    "r_test = r[:len(r)-3] # Without the outliers\n",
    "v_test = v[:len(v)-3]\n",
    "\n",
    "R = sm.add_constant(r) #This appends a column of ones to the array if prepend==False.\n",
    "R_test = sm.add_constant(r_test)"
   ]
  },
  {
   "cell_type": "code",
   "execution_count": 2,
   "metadata": {
    "collapsed": false
   },
   "outputs": [
    {
     "name": "stdout",
     "output_type": "stream",
     "text": [
      "Complete Data sample\n",
      "                            OLS Regression Results                            \n",
      "==============================================================================\n",
      "Dep. Variable:                      y   R-squared:                       0.031\n",
      "Model:                            OLS   Adj. R-squared:                 -0.008\n",
      "Method:                 Least Squares   F-statistic:                    0.7956\n",
      "Date:                Sun, 05 Mar 2017   Prob (F-statistic):              0.381\n",
      "Time:                        19:13:22   Log-Likelihood:                -207.45\n",
      "No. Observations:                  27   AIC:                             418.9\n",
      "Df Residuals:                      25   BIC:                             421.5\n",
      "Df Model:                           1                                         \n",
      "Covariance Type:            nonrobust                                         \n",
      "==============================================================================\n",
      "                 coef    std err          t      P>|t|      [0.025      0.975]\n",
      "------------------------------------------------------------------------------\n",
      "const         83.8637    193.608      0.433      0.669    -314.879     482.606\n",
      "x1           145.1704    162.753      0.892      0.381    -190.025     480.366\n",
      "==============================================================================\n",
      "Omnibus:                       10.088   Durbin-Watson:                   0.913\n",
      "Prob(Omnibus):                  0.006   Jarque-Bera (JB):                8.401\n",
      "Skew:                          -1.241   Prob(JB):                       0.0150\n",
      "Kurtosis:                       4.144   Cond. No.                         3.45\n",
      "==============================================================================\n",
      "\n",
      "Warnings:\n",
      "[1] Standard Errors assume that the covariance matrix of the errors is correctly specified.\n",
      "\n",
      "\n",
      " Inliers Data sample\n",
      "                            OLS Regression Results                            \n",
      "==============================================================================\n",
      "Dep. Variable:                      y   R-squared:                       0.624\n",
      "Model:                            OLS   Adj. R-squared:                  0.606\n",
      "Method:                 Least Squares   F-statistic:                     36.44\n",
      "Date:                Sun, 05 Mar 2017   Prob (F-statistic):           4.48e-06\n",
      "Time:                        19:13:22   Log-Likelihood:                -163.83\n",
      "No. Observations:                  24   AIC:                             331.7\n",
      "Df Residuals:                      22   BIC:                             334.0\n",
      "Df Model:                           1                                         \n",
      "Covariance Type:            nonrobust                                         \n",
      "==============================================================================\n",
      "                 coef    std err          t      P>|t|      [0.025      0.975]\n",
      "------------------------------------------------------------------------------\n",
      "const        -40.7836     83.439     -0.489      0.630    -213.825     132.258\n",
      "x1           454.1584     75.237      6.036      0.000     298.126     610.191\n",
      "==============================================================================\n",
      "Omnibus:                        0.126   Durbin-Watson:                   2.089\n",
      "Prob(Omnibus):                  0.939   Jarque-Bera (JB):                0.293\n",
      "Skew:                           0.138   Prob(JB):                        0.864\n",
      "Kurtosis:                       2.535   Cond. No.                         3.22\n",
      "==============================================================================\n",
      "\n",
      "Warnings:\n",
      "[1] Standard Errors assume that the covariance matrix of the errors is correctly specified.\n"
     ]
    }
   ],
   "source": [
    "#Least Squares Regression\n",
    "print(\"Complete Data sample\")\n",
    "model_OLS = sm.OLS(v,R)\n",
    "results_OLS = model_OLS.fit()\n",
    "#dfdf=dir(results) # Include available results\n",
    "#print(dfdf) # Prints available results \n",
    "#print(results_OLS.resid) # Prints the residuals\n",
    "print(results_OLS.summary()) # Prints summary of regression procedure\n",
    "prstd, ols_lower, ols_upper = wls_prediction_std(results_OLS); #Returns std upper & lower levels\n",
    "\n",
    "print(\"\\n\\n Inliers Data sample\")\n",
    "model_OLS_test = sm.OLS(v_test,R_test)\n",
    "results_OLS_test = model_OLS_test.fit()\n",
    "print(results_OLS_test.summary())"
   ]
  },
  {
   "cell_type": "markdown",
   "metadata": {},
   "source": [
    "In many cases of statistical analysis, we are not sure whether our statistical model is correctly specified. For example when using OLS, then linearity and homoscedasticity are assumed, some test statistics additionally assume that the errors are normally distributed or that we have a large sample. Since our results depend on these statistical assumptions, the results are only correct of our assumptions hold (at least approximately).\n",
    "\n",
    "One solution to the problem of uncertainty about the correct specification is to use robust methods, for example robust regression or robust covariance (sandwich) estimators. The second approach is to test whether our sample is consistent with these assumptions.\n",
    "\n",
    "# Normality and Distribution Tests\n",
    "**jarque_bera**\n",
    "\n",
    "$\\bullet$ Tests for normal distribution of residuals\n",
    "\n",
    "$\\bullet$ printed with summary()\n",
    "\n",
    "**omni_normtest**\n",
    "    \n",
    "$\\bullet$ Tests for normal distribution of residuals\n",
    "\n",
    "$\\bullet$ printed with summary()\n",
    "\n",
    "**Anderson Darling**\n",
    "\n",
    "$\\bullet$ Tests for normality with estimated mean and variance"
   ]
  },
  {
   "cell_type": "code",
   "execution_count": 3,
   "metadata": {
    "collapsed": false
   },
   "outputs": [
    {
     "data": {
      "image/png": "[encoded data removed]",
      "text/plain": [
       "<matplotlib.figure.Figure at 0x7fa3ba92c630>"
      ]
     },
     "metadata": {},
     "output_type": "display_data"
    },
    {
     "name": "stdout",
     "output_type": "stream",
     "text": [
      "Anderson-Darling test\n",
      "Complete A-D = (1.2804163431950215, 0.0020104322325534755)\n",
      "Inliers A-D = (0.11135476537746669, 0.99135135088489978)\n"
     ]
    }
   ],
   "source": [
    "#Resize bins for better visualized comparisson\n",
    "bn_ols=(int((max(results_OLS.resid)-min(results_OLS.resid))/100))\n",
    "bn_test=(int((max(results_OLS_test.resid)-min(results_OLS_test.resid))/100))\n",
    "\n",
    "plt.hist(results_OLS.resid,bins=bn_ols,label=\"Complete\")\n",
    "plt.hist(results_OLS_test.resid,bins=bn_test,label=\"Inliers\")\n",
    "plt.legend(loc=\"best\")\n",
    "plt.title(\"Residuals Histogram\")\n",
    "plt.xlabel(\"Speed Residuals (Km/H)\")\n",
    "plt.ylabel(\"Speed Residuals (Km/H)\")\n",
    "plt.show()\n",
    "\n",
    "print(\"Anderson-Darling test\")\n",
    "print(\"Complete A-D =\",sm.stats.diagnostic.normal_ad(results_OLS.resid, axis=0))\n",
    "print(\"Inliers A-D =\",sm.stats.diagnostic.normal_ad(results_OLS_test.resid, axis=0))"
   ]
  },
  {
   "cell_type": "markdown",
   "metadata": {},
   "source": [
    "# Autocorrelation Tests\n",
    "\n",
    "**durbin_watson**\n",
    "\n",
    "$\\bullet$ Durbin-Watson test for no autocorrelation of residuals\n",
    "\n",
    "$\\bullet$ printed with summary()\n",
    "\n",
    "**acorr_ljungbox**\n",
    "\n",
    "$\\bullet$ Ljung-Box test for no autocorrelation of residuals\n",
    "\n",
    "$\\bullet$ also returns Box-Pierce statistic\n",
    "\n",
    "**acorr_breush_godfrey**\n",
    "\n",
    "$\\bullet$ Breush-Pagan test for no autocorrelation of residuals"
   ]
  },
  {
   "cell_type": "code",
   "execution_count": 4,
   "metadata": {
    "collapsed": false
   },
   "outputs": [
    {
     "name": "stdout",
     "output_type": "stream",
     "text": [
      "Complete: (10.78773197772149, 0.21401909362656443, 1.4139866440128395, 0.25998188747701917)\n",
      "Inliers: (5.1005466525349163, 0.74677751425041139, 0.47228649833585257, 0.85604748100396144)\n"
     ]
    }
   ],
   "source": [
    "print(\"Complete:\",sm.stats.diagnostic.acorr_breush_godfrey(results_OLS, nlags=None, store=False))\n",
    "print(\"Inliers:\",sm.stats.diagnostic.acorr_breush_godfrey(results_OLS_test, nlags=None, store=False))"
   ]
  },
  {
   "cell_type": "markdown",
   "metadata": {},
   "source": [
    "# Non-Linearity Tests\n",
    "\n",
    "**linear_harvey_collier**\n",
    "\n",
    "$\\bullet$ Multiplier test for Null hypothesis that linear specification is correct\n",
    "\n",
    "**acorr_linear_rainbow**\n",
    "\n",
    "$\\bullet$ Multiplier test for Null hypothesis that linear specification is correct.\n",
    "\n",
    "**acorr_linear_lm**\n",
    "\n",
    "$\\bullet$ Lagrange Multiplier test for Null hypothesis that linear specification is correct. This tests against specific functional alternatives."
   ]
  },
  {
   "cell_type": "code",
   "execution_count": 5,
   "metadata": {
    "collapsed": false
   },
   "outputs": [
    {
     "name": "stdout",
     "output_type": "stream",
     "text": [
      "Complete: Ttest_1sampResult(statistic=-0.95670782679806821, pvalue=0.34866359198312391)\n",
      "Inliers: Ttest_1sampResult(statistic=1.6124494338289508, pvalue=0.12253299105577733)\n",
      "Expon: Ttest_1sampResult(statistic=6.43803001932997, pvalue=8.0311254558534854e-07)\n"
     ]
    }
   ],
   "source": [
    "# Exponential toy data\n",
    "x = np.linspace(0, 2, num=30)\n",
    "y = x**2\n",
    "xx=sm.add_constant(x)\n",
    "model_exp = sm.OLS(y,xx)\n",
    "results_exp = model_exp.fit()\n",
    "\n",
    "print(\"Complete:\",sm.stats.diagnostic.linear_harvey_collier(results_OLS))\n",
    "print(\"Inliers:\",sm.stats.diagnostic.linear_harvey_collier(results_OLS_test))\n",
    "print(\"Expon:\",sm.stats.diagnostic.linear_harvey_collier(results_exp))"
   ]
  },
  {
   "cell_type": "markdown",
   "metadata": {},
   "source": [
    "# Heteroscedasticity Tests\n",
    "\n",
    "For these test the null hypothesis is that all observations have the same error variance, i.e. errors are homoscedastic. The tests differ in which kind of heteroscedasticity is considered as alternative hypothesis. They also vary in the power of the test for different types of heteroscedasticity.\n",
    "\n",
    "$\\bullet$ Lagrange Multiplier Heteroscedasticity Test by Breush-Pagan\n",
    "\n",
    "$\\bullet$ Lagrange Multiplier Heteroscedasticity Test by White\n",
    "\n",
    "$\\bullet$ Test whether variance is the same in 2 subsamples"
   ]
  },
  {
   "cell_type": "code",
   "execution_count": 14,
   "metadata": {
    "collapsed": false
   },
   "outputs": [
    {
     "data": {
      "image/png": "[encoded data removed]",
      "text/plain": [
       "<matplotlib.figure.Figure at 0x7fa3b8702978>"
      ]
     },
     "metadata": {},
     "output_type": "display_data"
    },
    {
     "name": "stdout",
     "output_type": "stream",
     "text": [
      "Complete sample = (6.6160974804544992, 0.010106104097373744, 8.1143655810148783, 0.0086608657791246782)\n",
      "Heteroscedastic = (7.4325442032237641, 0.0064054716385020119, 9.869709294938362, 0.0047400280103331539)\n",
      "Inliers = (7.361951336015693e-05, 0.99315408970752017, 6.7484760921541359e-05, 0.99351956226397453)\n"
     ]
    }
   ],
   "source": [
    "# Create sapmle with heteroscedasticity\n",
    "v_heter = v_test * (r_test/np.median(r_test)*5)* np.random.rand(len(v_test))\n",
    "\n",
    "model_OLS_heter = sm.OLS(v_heter,R_test)\n",
    "results_OLS_heter = model_OLS_heter.fit()\n",
    "\n",
    "plt.scatter(r_test,v_heter,c=\"g\",marker=\"h\",label=\"Heteroscedastic\")\n",
    "plt.scatter(r[:len(r)-(len(r)-len(r_test))],v[:len(r)-(len(r)-len(r_test))],c=\"b\",marker=\"*\",label=\"Inliers\")\n",
    "plt.scatter(r[len(r)-(len(r)-len(r_test)):],v[len(r)-(len(r)-len(r_test)):],c=\"m\",marker=\"*\",label=\"Ouliers\")\n",
    "plt.legend(loc=\"best\")\n",
    "plt.show()\n",
    "\n",
    "print(\"Complete sample =\",sm.stats.diagnostic.het_breushpagan(results_OLS.resid,R))\n",
    "print(\"Heteroscedastic =\",sm.stats.diagnostic.het_breushpagan(results_OLS_heter.resid,R_test))\n",
    "print(\"Inliers =\",sm.stats.diagnostic.het_breushpagan(results_OLS_test.resid,R_test))"
   ]
  },
  {
   "cell_type": "markdown",
   "metadata": {},
   "source": [
    "# Huber loss function\n",
    "\n",
    "An example of an M estimator that is common in robust regression is that of the Huber loss (or cost) function. The Huber estimator minimizes \n",
    "\n",
    "$$\\sum_{i=1}^{N} e(y_1|y) $$\n",
    "\n",
    "where $e(y_1|y)$ is modeled as \n",
    "\n",
    "$$\\Bigg\\{\n",
    "  \\begin{array}{rcr}\n",
    "   \\frac{1}{2}t^2 & if & |t| \\le c \\\\\n",
    "   c|t|-\\frac{1}{2}c^2 & if & |t| \\ge c \\\\\n",
    "  \\end{array} $$ \n",
    " \n",
    "  and $t =y_i-y$ with a constant $c$ that must be chosen. Therefore, $e(t)$ is a function which acts like $t^2$ for $|t| \\le c $ and like $t$ for $|t| > c$ and is continuous and differentiable. The transition in the Huber function is equivalent to assuming a Gaussian error distribution for small excursions from the true value of the function and an exponential distribution for large excursions (its behavior is a compromise between the mean and the median)"
   ]
  },
  {
   "cell_type": "code",
   "execution_count": 12,
   "metadata": {
    "collapsed": false
   },
   "outputs": [
    {
     "name": "stdout",
     "output_type": "stream",
     "text": [
      "                    Robust linear Model Regression Results                    \n",
      "==============================================================================\n",
      "Dep. Variable:                      y   No. Observations:                   27\n",
      "Model:                            RLM   Df Residuals:                       25\n",
      "Method:                          IRLS   Df Model:                            1\n",
      "Norm:                          HuberT                                         \n",
      "Scale Est.:                       mad                                         \n",
      "Cov Type:                          H1                                         \n",
      "Date:                Sun, 05 Mar 2017                                         \n",
      "Time:                        19:16:15                                         \n",
      "No. Iterations:                    12                                         \n",
      "==============================================================================\n",
      "                 coef    std err          z      P>|z|      [0.025      0.975]\n",
      "------------------------------------------------------------------------------\n",
      "const         -9.7236    110.861     -0.088      0.930    -227.008     207.561\n",
      "x1           359.6652     93.194      3.859      0.000     177.009     542.321\n",
      "==============================================================================\n",
      "\n",
      "If the model instance has been used for another fit with different fit\n",
      "parameters, then the fit options might not be the correct ones anymore .\n"
     ]
    }
   ],
   "source": [
    "huber_t = sm.RLM(v,R,M=sm.robust.norms.HuberT())\n",
    "\n",
    "#model_whatever_you_like = sm.RLM(v,R, M=sm.robust.norms.Hampel())\n",
    "#LeastSquares, HuberT, RamsayE, AndrewWave,TrimmedMean\n",
    "        #, Hampel, and TukeyBiweight.  The default is HuberT().\n",
    "#help(sm.RLM.fit) # for more options and module sm.robust.scale for scale options\n",
    "\n",
    "results_hub = huber_t.fit()\n",
    "#results_Hampel = model_whatever_you_like.fit()\n",
    "\n",
    "print(results_hub.summary())\n",
    "#print(results_Hampel.summary())"
   ]
  },
  {
   "cell_type": "code",
   "execution_count": 13,
   "metadata": {
    "collapsed": false
   },
   "outputs": [
    {
     "name": "stdout",
     "output_type": "stream",
     "text": [
      "Least Squares: v(Km/s) = 145.17(±193.61) * r(Mpc) + 83.86(±193.61)\n",
      "Least Squares Inliers: v(Km/s) = 454.16(± 83.44) * r(Mpc) + -40.78(±83.44)\n",
      "Robust Linear: v(Km/s) = 359.67(±110.86) * r(Mpc) + -9.72(±110.86)\n"
     ]
    },
    {
     "data": {
      "image/png": "[encoded data removed]",
      "text/plain": [
       "<matplotlib.figure.Figure at 0x7fa3b86db3c8>"
      ]
     },
     "metadata": {},
     "output_type": "display_data"
    }
   ],
   "source": [
    "print(\"Least Squares: v(Km/s) = %.2f\" % results_OLS.params[1]+\"(±%.2f\" % results_OLS.bse[0]\n",
    "      +\") * r(Mpc) + %.2f\" % results_OLS.params[0]+\"(±%.2f\" % results_OLS.bse[0]+\")\")\n",
    "print(\"Least Squares Inliers: v(Km/s) = %.2f\" % results_OLS_test.params[1]+\"(± %.2f\" % results_OLS_test.bse[0]\n",
    "      +\") * r(Mpc) + %.2f\" % results_OLS_test.params[0]+\"(±%.2f\" % results_OLS_test.bse[0]+\")\")\n",
    "print(\"Robust Linear: v(Km/s) = %.2f\" % results_hub.params[1]+\"(±%.2f\" % results_hub.bse[0]\n",
    "      +\") * r(Mpc) + %.2f\" % results_hub.params[0]+\"(±%.2f\" % results_hub.bse[0]+\")\")\n",
    "\n",
    "#Plot\n",
    "plt.scatter(r_test,v_test,c=\"b\",marker=\"*\")\n",
    "plt.scatter(r[len(r)-(len(r)-len(r_test)):],v[len(r)-(len(r)-len(r_test)):],c=\"m\",marker=\"*\")\n",
    "plt.plot(r, results_OLS.fittedvalues, 'r-.', label=\"OLS\")\n",
    "plt.plot(r, ols_upper, 'r--', label=\"OLS std\")\n",
    "plt.plot(r_test, results_OLS_test.fittedvalues, 'm-.', label=\"OLS_no outliers\")\n",
    "plt.plot(r, results_hub.fittedvalues, 'c-.', label=\"RLM\")\n",
    "plt.plot(r, ols_lower, 'r--')\n",
    "plt.legend(loc=\"best\")\n",
    "plt.show()"
   ]
  },
  {
   "cell_type": "markdown",
   "metadata": {
    "collapsed": true
   },
   "source": [
    "References:\n",
    "\n",
    "Hogg, D. W., J. Bovy, and D. Lang (2010). Data analysis recipes: Fitting a model to\n",
    "data. ArXiv:astro-ph/1008.4686.\n",
    "\n",
    "Huber, P. J. (1964). Robust estimation of a local parameter. Annals of Mathematical\n",
    "Statistics 35, 73–101.\n",
    "\n",
    "Jolliffe, I. T. (1986). Principal Component Analysis. Springer.\n",
    "\n",
    "Kelly, B. C. (2011). Measurement error models in astronomy.\n",
    "ArXiv:astro-ph/1112.1745."
   ]
  },
  {
   "cell_type": "code",
   "execution_count": null,
   "metadata": {
    "collapsed": true
   },
   "outputs": [],
   "source": []
  }
 ],
 "metadata": {
  "kernelspec": {
   "display_name": "Python 3",
   "language": "python",
   "name": "python3"
  },
  "language_info": {
   "codemirror_mode": {
    "name": "ipython",
    "version": 3
   },
   "file_extension": ".py",
   "mimetype": "text/x-python",
   "name": "python",
   "nbconvert_exporter": "python",
   "pygments_lexer": "ipython3",
   "version": "3.5.2"
  }
 },
 "nbformat": 4,
 "nbformat_minor": 1
}
