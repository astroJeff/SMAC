{
 "cells": [
  {
   "cell_type": "markdown",
   "metadata": {},
   "source": [
    "# Regressions for datasets with information on the scatter\n",
    "\n",
    "\n",
    "\"Linear regression in astronomy II\" by Feigelson & Babu, 1992 ([see bibliography.bib](https://github.com/astroJeff/SMAC/blob/master/bibliography.bib)).\n"
   ]
  },
  {
   "cell_type": "markdown",
   "metadata": {},
   "source": [
    "# Independetly known variance\n",
    "In some situations the scatter of variables ($x_i$,$y_i$) may be known independently of the sample.\n",
    "For example, the width of the main sequence in globular cluster color-magnitude diagrams may serve\n",
    "as a mesure of scatter of stellar luminosities, the scatter of a variable in a well-studied calibration\n",
    "data set might be applied to a new sample, or repeated observations of the same object might be studied.\n",
    "The regression solution for one such class of problems is well established. If the intrinsic variance\n",
    "in $X$ is $\\sigma_x^2$ and in $Y$ is $\\sigma_y^2$, one can define the ratio $l = \\sigma_x^2/\\sigma_y^2$.\n",
    "The solutions for l = 0, 1, and $\\infty$ are simply $OLS(X|Y)$, orthogonal and $OLS(Y|X)$ lines that we\n",
    "duscussed before. For arbitrary $l$ and assumiming all residuals are distributed as Gaussians, the\n",
    "least-squares estimate of the slope is\n",
    "\n",
    "![title](img/Feig_fig1.png)\n",
    "\n",
    "For more general case where the residuals are not assumed to have Gaussian distributions,\n",
    "the appropriate slope variance is\n",
    "![title](img/Feig_fig2.png)\n",
    "Note that these models should only be used with scale-free (e.g. log) variables\n",
    "(except when l = 0 or $\\infty$). As with the orthogonal regression line, these slopes will\n",
    "change when one of the variables is expressed in diffrent units."
   ]
  },
  {
   "cell_type": "markdown",
   "metadata": {},
   "source": [
    "# Measurement error regression models\n",
    "\n",
    "In some astronomical regressions, the scatter about the line is primarily due to the measurement process. \n",
    "In statistics, problems where the true points lie precisely on the line are called \"functional\" regression models, while problems where the true points are scattered about the line are called \"structural\" regression models. Functional models are appropriate when measurement errors exceed intrinsic scatters, or when the intrinsic scatter is obviously zero (e.g. measurements of the same property and objects using different detectors).\n",
    "\n",
    "## Heteroscedastic functional model\n",
    "The model is expressed as follows: if the true relation is\n",
    "$$Y = \\alpha + \\beta X,$$\n",
    "the measured quantities are\n",
    "$$x_i = X_i + \\delta_i,$$\n",
    "$$y_i = Y_i + \\epsilon_i,$$\n",
    "and the ratio of measurement error variances is defined to be\n",
    "$$\\lambda_i = \\sigma^2(\\epsilon_i)/\\sigma^2(\\delta_i)$$.\n",
    "The heteroscedastic case is where the measurement errors are different for each point and each variable i.e. $\\lambda_i \\neq constant$, but the intrinsic points are still assumed to lie exactly on a line, weighted regressions are used.\n",
    "\n",
    "If the measurement error is confined to the dependent variable, then wighting each by $1/\\sigma^2(\\delta_i)$ and applying the $OLS(Y|X)$ line is standard.\n",
    "\n",
    "When $\\lambda_i \\neq 0$ and heteroscedastic measurement errors are present in both variables, then a \"doubly weighted\" regression is the appropriate generalizaton of $OLS(Y|X)$. This situation occurs when different objects are observed with different signal-to-noise rations. Here one finds regression coefficients $\\alpha$ and $\\beta$ that minimize the quantity\n",
    "$$S = \\sum [(x_i - \\hat{x_i})^2/\\sigma^2(\\delta_i) + (y_i - \\hat{y_i})^2/\\sigma^2(\\epsilon_i)],$$\n",
    "where $(\\hat{x_i},\\hat{y_i})$ are the observed $(x_i,y_i)$ \"adjusted\" to lie on the $Y = \\alpha + \\beta X$ line by sliding them along a line of slope $\\lambda_i$."
   ]
  },
  {
   "cell_type": "markdown",
   "metadata": {},
   "source": [
    "# Example of doubly weighted ODR"
   ]
  },
  {
   "cell_type": "code",
   "execution_count": 7,
   "metadata": {
    "collapsed": false
   },
   "outputs": [],
   "source": [
    "import matplotlib as mpl\n",
    "import matplotlib.pyplot as plt\n",
    "import numpy as np\n",
    "import scipy.stats as st\n",
    "from scipy.odr.odrpack import *\n",
    "import sys\n",
    "from scipy import stats\n",
    "\n",
    "%matplotlib inline"
   ]
  },
  {
   "cell_type": "code",
   "execution_count": 21,
   "metadata": {
    "collapsed": false
   },
   "outputs": [
    {
     "name": "stdout",
     "output_type": "stream",
     "text": [
      "######## ODR with weights ########\n",
      "Beta: [ 1.26436434  0.14125264]\n",
      "Beta Std Error: [ 0.03293138  0.25882696]\n",
      "Beta Covariance: [[ 0.00054475 -0.00424111]\n",
      " [-0.00424111  0.03365113]]\n",
      "Residual Variance: 1.99076243866\n",
      "Inverse Condition #: 0.0640228573189\n",
      "Reason(s) for Halting:\n",
      "  Sum of squares convergence\n",
      "######## OLS ########\n",
      "Beta: [ 1.21408961  0.53225508]\n",
      "Beta Std Error: [ 0.03216758  0.23896155]\n",
      "Beta Covariance: [[  9.58283637e-05  -7.04434667e-04]\n",
      " [ -7.04434667e-04   5.28826760e-03]]\n",
      "Residual Variance: 10.7979823129\n",
      "Inverse Condition #: 0.0653013749678\n",
      "Reason(s) for Halting:\n",
      "  Sum of squares convergence\n"
     ]
    },
    {
     "data": {
      "image/png": "[encoded data removed]",
      "text/plain": [
       "<matplotlib.figure.Figure at 0x7f398eff5510>"
      ]
     },
     "metadata": {},
     "output_type": "display_data"
    },
    {
     "data": {
      "text/plain": [
       "<matplotlib.figure.Figure at 0x7f398efaa990>"
      ]
     },
     "metadata": {},
     "output_type": "display_data"
    }
   ],
   "source": [
    "# Load up the data\n",
    "fluxes = np.loadtxt('IR.dat', comments='#')\n",
    "\n",
    "I    = fluxes[:,1]\n",
    "Ierr = fluxes[:,2]\n",
    "R    = fluxes[:,3]\n",
    "Rerr = fluxes[:,4]\n",
    "\n",
    "def f(B, x):\n",
    "    return B[0]*x + B[1]\n",
    "\n",
    "data = RealData(R, I, sx=Rerr, sy=Ierr)\n",
    "model = Model(f)\n",
    "regression = ODR(data,model,[0,1])\n",
    "outp = regression.run()\n",
    "\n",
    "print(\"######## ODR with weights ########\")\n",
    "outp.pprint()\n",
    "\n",
    "regression.set_job(fit_type=2)\n",
    "outp_ols = regression.run()\n",
    "print(\"######## OLS ########\")\n",
    "outp_ols.pprint()\n",
    "\n",
    "# plotting\n",
    "figure = plt.figure(figsize=(5.0, 4.0), dpi=150)\n",
    "font = {'size'   : 16, 'family' : 'sans-serif'}\n",
    "mpl.rc('font', **font)\n",
    "figure.subplots_adjust(hspace=0.1)\n",
    "fig1 = plt.subplot(111)\n",
    "\n",
    "plt.errorbar(R,I,xerr=Rerr,yerr=Ierr,color='k', marker='o', markeredgecolor='k',\\\n",
    "             ms=6., capsize=0, linestyle='None', fmt='')\n",
    "\n",
    "\n",
    "x = np.arange(min(R),max(R),0.1)\n",
    "y = f(outp.beta,x)\n",
    "y_ols = f(outp_ols.beta,x)\n",
    "\n",
    "plt.plot(x,y,c='r',label=\"ODR weighted\")\n",
    "plt.plot(x,y_ols,c='b',label=\"OLS\")\n",
    "plt.xlabel('R-flux (mJy)')\n",
    "plt.ylabel('I-flux (mJy)')\n",
    "plt.legend(prop={'size':9},loc=2)\n",
    "\n",
    "plt.show()\n",
    "plt.close()\n",
    "plt.cla()\n",
    "plt.clf()\n"
   ]
  },
  {
   "cell_type": "code",
   "execution_count": null,
   "metadata": {
    "collapsed": true
   },
   "outputs": [],
   "source": []
  }
 ],
 "metadata": {
  "anaconda-cloud": {},
  "kernelspec": {
   "display_name": "Python 2",
   "language": "python",
   "name": "python2"
  },
  "language_info": {
   "codemirror_mode": {
    "name": "ipython",
    "version": 2
   },
   "file_extension": ".py",
   "mimetype": "text/x-python",
   "name": "python",
   "nbconvert_exporter": "python",
   "pygments_lexer": "ipython2",
   "version": "2.7.9"
  }
 },
 "nbformat": 4,
 "nbformat_minor": 0
}
