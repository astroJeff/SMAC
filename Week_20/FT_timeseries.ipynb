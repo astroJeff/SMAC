{
 "cells": [
  {
   "cell_type": "markdown",
   "metadata": {},
   "source": [
    "# Time series I: Fourier Transform\n",
    "\n",
    "Fourier analysis is the study of the way general functions may be represented or approximated by sums of simpler trigonometric functions. By decomposing a function in this sum we can get informations about the frequency of the period of these functions.\n",
    "When we do a Fourier transform of a function of time, we decompose it into the frequencies that make it up.\n",
    "\n",
    "$$ \\hat{f}(\\omega) = \\int_{-\\infty}^{\\infty} f(t)\\ e^{- 2\\pi i x \\omega}\\,dt $$"
   ]
  },
  {
   "cell_type": "markdown",
   "metadata": {},
   "source": [
    "## Discrete Fourier Transform (DFT)\n",
    "Discrete-time Fourier transform (DTFT) is a form of Fourier analysis that is applicable to uniformly-spaced samples of a continuous function. The term discrete-time refers to the fact that the transform operates on discrete data (samples) whose interval often has units of time.\n",
    "\n",
    "$$ F(\\omega) = \\sum_{n=0}^{N-1} x[n] \\,e^{-i \\omega n} $$\n",
    "\n",
    "### Example:\n"
   ]
  },
  {
   "cell_type": "code",
   "execution_count": null,
   "metadata": {},
   "outputs": [],
   "source": [
    "import matplotlib.pyplot as plt\n",
    "import numpy as np\n",
    "N = 400\n",
    "fs = 400\n",
    "#t = np.arange(-.5, .5, 1.0/fs)\n",
    "t = np.linspace(-.5, .5, N)\n",
    "f0 = 10\n",
    "phi = np.pi/2\n",
    "A =  1\n",
    "x = A * np.sin(2 * np.pi * f0 * t + phi)\n",
    "plt.plot(t, x)\n",
    "plt.axis([-.5, .5, -1.8, 1.8])\n",
    "plt.xlabel('time')\n",
    "plt.ylabel('amplitude')\n",
    "plt.show()"
   ]
  },
  {
   "cell_type": "code",
   "execution_count": null,
   "metadata": {},
   "outputs": [],
   "source": [
    "DFT = np.fft.fft(x)\n",
    "freq = np.fft.fftfreq(x.size)\n",
    "plt.plot(freq, np.abs(DFT))\n",
    "plt.show()"
   ]
  },
  {
   "cell_type": "code",
   "execution_count": null,
   "metadata": {},
   "outputs": [],
   "source": [
    "half = len(x) // 2\n",
    "plt.plot(freq[:half], np.abs(DFT[:half]))\n",
    "plt.show()"
   ]
  },
  {
   "cell_type": "code",
   "execution_count": null,
   "metadata": {},
   "outputs": [],
   "source": [
    "# 0 is the mean of the normal distribution you are choosing from\n",
    "# .4 is the standard deviation of the normal distribution\n",
    "# N is the number of elements you get in array noise\n",
    "noise = np.random.normal(0,.4,N)\n",
    "\n",
    "plt.plot(t, noise)\n",
    "plt.xlabel('time')\n",
    "plt.ylabel('amplitude')\n",
    "plt.show()"
   ]
  },
  {
   "cell_type": "code",
   "execution_count": null,
   "metadata": {},
   "outputs": [],
   "source": [
    "DFT = np.fft.fft(noise)\n",
    "freq = np.fft.fftfreq(noise.size)\n",
    "plt.plot(freq[:half], np.abs(DFT[:half]))\n",
    "plt.show()"
   ]
  },
  {
   "cell_type": "code",
   "execution_count": null,
   "metadata": {},
   "outputs": [],
   "source": [
    "f1 = 10\n",
    "f2 = 2\n",
    "\n",
    "phi_1 = np.pi/3\n",
    "phi_2 = np.pi/4\n",
    "\n",
    "B = 2\n",
    "C = 3\n",
    "D = 4\n",
    "noise = D*np.random.normal(0,.4,N)\n",
    "\n",
    "S = A*np.sin(2*np.pi*f0*t + phi) + B*np.sin(2*np.pi*f1*t + phi_1) + C*np.sin(2*np.pi*f2*t + phi_2) + noise\n",
    "\n",
    "plt.plot(t, S)\n",
    "plt.axis([-.5, .5, -10, 10])\n",
    "plt.xlabel('time')\n",
    "plt.ylabel('amplitude')\n",
    "plt.show()"
   ]
  },
  {
   "cell_type": "code",
   "execution_count": null,
   "metadata": {},
   "outputs": [],
   "source": [
    "DFT = np.fft.fft(S)\n",
    "freq = np.fft.fftfreq(S.size)\n",
    "plt.plot(freq[:half], np.abs(DFT[:half]) ** 2)\n",
    "plt.yscale(\"log\")\n",
    "plt.show()"
   ]
  },
  {
   "cell_type": "markdown",
   "metadata": {},
   "source": [
    "## Real signal\n",
    "The Fourier Transform of a real signal is Hermitian-symmetric: the negative frequency terms are the complex conjugate of the positive frequency terms. This is why the package **`numpy.fft`** includes an optimized version of the DFT --- **`rfft`** --- that returns only half the terms."
   ]
  },
  {
   "cell_type": "code",
   "execution_count": null,
   "metadata": {},
   "outputs": [],
   "source": [
    "duration = 3 * np.pi\n",
    "period = 0.5\n",
    "n_samples = 100\n",
    "\n",
    "t = np.linspace(0, duration, n_samples)\n",
    "signal = np.sin(2 * np.pi * t / period)\n",
    "plt.plot(t, signal, \".--\")\n",
    "plt.show()\n",
    "\n",
    "DFT = np.fft.rfft(signal)\n",
    "freq = np.fft.rfftfreq(n=signal.size, d=t[1]-t[0])\n",
    "power_spectrum = np.abs(DFT) ** 2.0\n",
    "phase_spectrum = np.angle(DFT)\n",
    "\n",
    "plt.plot(freq, power_spectrum, \"-\")\n",
    "plt.xlabel(\"Frequency (Hz)\")\n",
    "plt.ylabel(\"Power\")\n",
    "plt.show()\n",
    "plt.plot(freq, phase_spectrum, \"-\")\n",
    "plt.xlabel(\"Frequency (Hz)\")\n",
    "plt.ylabel(\"Phase (rad)\")\n",
    "plt.show()"
   ]
  },
  {
   "cell_type": "markdown",
   "metadata": {},
   "source": [
    "## Hands-on Fourier Transform\n",
    "### Let's automate the procedure...\n",
    "We can define functions that create signals of multiple components, perform Discrete Fourier Transform and reconstruct signals:\n",
    "\n",
    "- `get_spectra` takes a signal as input and returns the frequencies, the power and phase spectra of the DFT of a **real** signal\n",
    "- `sinus` creates a sinusoidal signal of **n** points with a specified **amplitude**, **period** (in number of sampling intervals) and a **phase** (in radians)\n",
    "- `noise` creates Gaussian noise of **n** points of certain **amplitude** (= standard deviation)\n",
    "- `reconstruct` creates a signal. The input is the number of points of the signal, and lists of frequencies, powers and phases for the components."
   ]
  },
  {
   "cell_type": "code",
   "execution_count": null,
   "metadata": {},
   "outputs": [],
   "source": [
    "def get_spectra(signal):\n",
    "    transform =\n",
    "    frequencies = \n",
    "    power_spectrum = \n",
    "    phase_spectrum = \n",
    "    return frequencies, power_spectrum, phase_spectrum\n",
    "\n",
    "def sinus(n_points, amplitude, period, phase):\n",
    "    return amplitude * np.sin(np.arange(n_points) * (2 * np.pi / period) + phase)\n",
    "\n",
    "def noise(n_points, amplitude):\n",
    "    return np.random.normal(scale=amplitude, size=n_points)\n",
    "\n",
    "def reconstruct(n, frequencies, powers, phases):\n",
    "    amplitudes = powers ** 0.5\n",
    "    signal = np.zeros(n)\n",
    "    for i in range(1, len(amplitudes)):\n",
    "        if frequencies[i] == 0.0:\n",
    "            signal += amplitudes[i]\n",
    "        else:\n",
    "            signal += sinus(n, 2 * amplitudes[i], 1 / frequencies[i], phases[i] + np.pi / 2.0)\n",
    "    signal = signal / n\n",
    "    return signal\n"
   ]
  },
  {
   "cell_type": "code",
   "execution_count": null,
   "metadata": {},
   "outputs": [],
   "source": [
    "n = 70\n",
    "t = np.arange(n)\n",
    "signal = 1.0 + sinus(n, 3.0, 10.0, 0.0) + sinus(n, 5.5, 7.0, np.pi) + noise(n, 0.1)\n",
    "freqs, power_spectrum, phase_spectrum = get_spectra(signal)\n",
    "reconstructed_signal = reconstruct(n, freqs, power_spectrum, phase_spectrum)\n",
    "\n",
    "plt.plot(t, signal, \"-\")\n",
    "plt.xlabel(\"time\"); plt.ylabel(\"signal\")\n",
    "plt.show()\n",
    "\n",
    "plt.plot(freqs, power_spectrum, \".-\")\n",
    "plt.xlabel(\"frequency\"); plt.ylabel(\"power\")\n",
    "plt.show()\n",
    "\n",
    "plt.plot(freqs, phase_spectrum, \".\")\n",
    "plt.xlabel(\"frequency\"); plt.ylabel(\"phase\")\n",
    "plt.show()\n",
    "\n",
    "plt.plot(t, reconstructed_signal, \"-\")\n",
    "plt.xlabel(\"time\"); plt.ylabel(\"reconstructed signal\")\n",
    "plt.show()"
   ]
  },
  {
   "cell_type": "markdown",
   "metadata": {},
   "source": [
    "## Real data\n",
    "One of the classic time series dataset is the yearly measurements of Wolf's sunspot numbers. We know about the so-called $11$-year solar cycle. Can we find this periodicity using DFT?"
   ]
  },
  {
   "cell_type": "code",
   "execution_count": null,
   "metadata": {},
   "outputs": [],
   "source": [
    "wolf = np.loadtxt(\"sunspots.txt\")\n",
    "year = 1700 + np.arange(len(wolf))\n",
    "plt.plot(year, wolf)\n",
    "plt.xlabel(\"Year\")\n",
    "plt.ylabel(\"Wolf number\")\n",
    "plt.show()\n",
    "\n",
    "freqs, power, phase =\n",
    "plt.plot(freqs, power, \".-\")\n",
    "plt.xlabel(\"Frequency ($yr^{-1}$)\"); plt.ylabel(\"Power\")\n",
    "plt.yscale(\"log\")\n",
    "plt.show()\n",
    "\n",
    "# plot power vs period for period < 25yr - ignore the constant term to avoid infinity\n",
    "plt.plot(, , \".-\")\n",
    "plt.axvline(11, color=\"r\")\n",
    "plt.xlim([0.0, 25.0])\n",
    "plt.xlabel(\"Period (yr)\"); plt.ylabel(\"Power\")\n",
    "#plt.xscale(\"log\")\n",
    "plt.show()"
   ]
  },
  {
   "cell_type": "markdown",
   "metadata": {},
   "source": [
    "## Approximating timeseries using $N$ Fourier terms\n",
    "Remember that a signal is information, and the power of signal is \"amount\" of information. For example, when the signal-to-noise ratio is very low, there isn't much to say about the data. The power spectum informs us at which frequencies most of the power, or information, resides. What if we discard all but the $N$ most prominent frequencies? Will that allow us to reconstruct the signal?"
   ]
  },
  {
   "cell_type": "code",
   "execution_count": null,
   "metadata": {},
   "outputs": [],
   "source": [
    "# Select only N significant terms\n",
    "\n",
    "N = 10\n",
    "ascending_indices = np.argsort(power)\n",
    "significant = ascending_indices[-N:]\n",
    "\n",
    "new_freqs = freqs[significant]\n",
    "new_power = power[significant]\n",
    "new_phase = phase[significant]\n",
    "print \"Using frequencies:\", new_freqs\n",
    "\n",
    "approximation = reconstruct(len(year), new_freqs, powers=new_power, phases=new_phase)\n",
    "plt.plot(year, wolf, \"k-\")\n",
    "plt.plot(year, approximation, \"r-\")\n",
    "plt.show()"
   ]
  }
 ],
 "metadata": {
  "anaconda-cloud": {},
  "kernelspec": {
   "display_name": "Python 2",
   "language": "python",
   "name": "python2"
  },
  "language_info": {
   "codemirror_mode": {
    "name": "ipython",
    "version": 2
   },
   "file_extension": ".py",
   "mimetype": "text/x-python",
   "name": "python",
   "nbconvert_exporter": "python",
   "pygments_lexer": "ipython2",
   "version": "2.7.12"
  }
 },
 "nbformat": 4,
 "nbformat_minor": 2
}
