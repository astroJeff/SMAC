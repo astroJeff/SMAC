{
 "cells": [
  {
   "cell_type": "raw",
   "metadata": {},
   "source": [
    "Notes:\n",
    "* CFT\n",
    "    - why? idea: P space -> f space\n",
    "* DFT\n",
    "    - what it is\n",
    "    - when/why we use it\n",
    "* Application:\n",
    "    - example: sinus\n",
    "    - handson: different sinusoids\n",
    "        different periods, phases, amplitudes\n",
    "* +noise\n",
    "* Real data\n",
    "    - variable star\n",
    "    - eclipsing binary\n"
   ]
  },
  {
   "cell_type": "markdown",
   "metadata": {},
   "source": [
    "# Time series I: Fourier Transform"
   ]
  },
  {
   "cell_type": "markdown",
   "metadata": {},
   "source": [
    "## Continuous Fourier Transform (CFT)"
   ]
  },
  {
   "cell_type": "markdown",
   "metadata": {},
   "source": [
    "## Discrete Fourier Transform (DFT)\n",
    "\n",
    "### Example"
   ]
  },
  {
   "cell_type": "markdown",
   "metadata": {},
   "source": [
    "## Hands-on Fourier Transform"
   ]
  },
  {
   "cell_type": "markdown",
   "metadata": {},
   "source": [
    "## FT of random sample"
   ]
  },
  {
   "cell_type": "markdown",
   "metadata": {},
   "source": [
    "## Real data"
   ]
  }
 ],
 "metadata": {
  "kernelspec": {
   "display_name": "Python 3",
   "language": "python",
   "name": "python3"
  },
  "language_info": {
   "codemirror_mode": {
    "name": "ipython",
    "version": 3
   },
   "file_extension": ".py",
   "mimetype": "text/x-python",
   "name": "python",
   "nbconvert_exporter": "python",
   "pygments_lexer": "ipython3",
   "version": "3.5.2"
  }
 },
 "nbformat": 4,
 "nbformat_minor": 2
}
