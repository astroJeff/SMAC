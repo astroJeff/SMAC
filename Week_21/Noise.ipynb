{
 "cells": [
  {
   "cell_type": "markdown",
   "metadata": {},
   "source": [
    "# Noise: Red, White, Pink\n"
   ]
  },
  {
   "cell_type": "markdown",
   "metadata": {},
   "source": [
    "## White noise\n",
    "White noise is an uncorrelated, independent and completely random noise. An example would be counting photon limited (e.g. Poison distribution).  For instance, we have a simple periodic signal but we don't know the exact brightness of each data point because of this uncertainty.  When you take the Fourier transform or create the power spectrum, it is like you are superimposing an infinite set of frequencies on top of the real signal to account for every unreal statistical variation; there is no preference for a particular frequency because it is *completely* random.\n",
    "\n",
    "Often in astronomy, measurements are not independent because of changes in airmass, atmospheric conditions, tracking, flafielding, etc. which cause correlation between neighboring data points. Take for example a planetary transit. The uncertainty in the depth of the transit is $$ \\sigma_d  = \\frac{\\sigma_i}{\\sqrt(n)}, $$ where $\\sigma_i$ are the uncertainties of all the datapoints inside the transient and $n$ is the number of data points.\n",
    "\n",
    "$$ \\sigma^2_d =  \\frac{\\sigma_i^2}{\\sqrt(n)} + \\frac{1}{\\sqrt(n^2)} \\sum_{i\\neq j} C_{ij},$$\n",
    "\n",
    "where $C_{ij}$ are the covariance coefficients. Correlated noise occured when the 2d term is not much smaller than the 1st.\n",
    "\n",
    "<img src=\"1.png\">\n",
    "\n",
    "<img src=\"2.png\">\n",
    "\n",
    "<a href=\"http://cdsads.u-strasbg.fr/abs/2006MNRAS.373..231P\">2006MNRAS.373..231P</a>\n",
    "\n",
    "Genreally the power spectrum $P \\propto \\frac{1}{\\nu^\\alpha}$. For white noise $\\alpha = 0$ (no frequency dependence). One particular case is red or brownian noise \n",
    "\n",
    "### Example:\n"
   ]
  },
  {
   "cell_type": "code",
   "execution_count": null,
   "metadata": {
    "collapsed": true
   },
   "outputs": [],
   "source": []
  }
 ],
 "metadata": {
  "anaconda-cloud": {},
  "kernelspec": {
   "display_name": "Python 2",
   "language": "python",
   "name": "python2"
  },
  "language_info": {
   "codemirror_mode": {
    "name": "ipython",
    "version": 2
   },
   "file_extension": ".py",
   "mimetype": "text/x-python",
   "name": "python",
   "nbconvert_exporter": "python",
   "pygments_lexer": "ipython2",
   "version": "2.7.9"
  }
 },
 "nbformat": 4,
 "nbformat_minor": 2
}
