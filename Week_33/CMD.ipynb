{
 "cells": [
  {
   "cell_type": "code",
   "execution_count": null,
   "metadata": {
    "collapsed": true
   },
   "outputs": [],
   "source": [
    "import numpy as np\n",
    "import matplotlib.pyplot as plt\n",
    "from matplotlib import patches as mpatches\n",
    "from sklearn import cluster, mixture\n",
    "from sklearn.neighbors import kneighbors_graph\n",
    "from itertools import cycle, islice\n",
    "\n",
    "\n",
    "%matplotlib inline"
   ]
  },
  {
   "cell_type": "markdown",
   "metadata": {},
   "source": [
    "### First, let's load up some Gaia data\n",
    "\n",
    "We will use the same Gaia data from last week, so it contains the Pleiades within it."
   ]
  },
  {
   "cell_type": "code",
   "execution_count": null,
   "metadata": {
    "collapsed": false
   },
   "outputs": [],
   "source": [
    "data = np.load('Gaia_DR2_sample.npy')\n",
    "\n",
    "print(data.shape)  # Number of stars\n",
    "print(data.dtype.names)  # Variables in the array"
   ]
  },
  {
   "cell_type": "markdown",
   "metadata": {},
   "source": [
    "### Let's look at the data"
   ]
  },
  {
   "cell_type": "code",
   "execution_count": null,
   "metadata": {
    "collapsed": false
   },
   "outputs": [],
   "source": [
    "fig, ax = plt.subplots(1, 2, figsize=(8, 3.5))\n",
    "\n",
    "\n",
    "# Parallax\n",
    "bins = np.linspace(-5, 10, 50)\n",
    "ax[0].hist(data['parallax'], bins=bins)\n",
    "ax[0].set_xlabel('Parallax (mas)')\n",
    "\n",
    "\n",
    "# Proper motion\n",
    "ax[1].scatter(data['pmra'], data['pmdec'], marker='.', alpha=0.1)\n",
    "ax[1].set_xlabel(r'$\\mu_{\\alpha}$ (mas yr$^{-1}$)')\n",
    "ax[1].set_ylabel(r'$\\mu_{\\delta}$ (mas yr$^{-1}$)')\n",
    "ax[1].set_xlim(-75, 75)\n",
    "ax[1].set_ylim(-75, 75)\n",
    "\n",
    "\n",
    "plt.tight_layout()\n",
    "plt.show()"
   ]
  },
  {
   "cell_type": "markdown",
   "metadata": {},
   "source": [
    "### Our function to calculate absolute magnitudes"
   ]
  },
  {
   "cell_type": "code",
   "execution_count": null,
   "metadata": {
    "collapsed": true
   },
   "outputs": [],
   "source": [
    "def get_absolute_mag(apparent_magnitude, parallax):\n",
    "    \"\"\" This function calculates the absolute magnitude from the apparent\n",
    "    magnitude and the astrometric parallax\n",
    "    \n",
    "    Arguments\n",
    "    ---------\n",
    "    apparent_magnitude : float (mag)\n",
    "        The apparent magnitude of the star. This can be in any band\n",
    "        \n",
    "    parallax : float (mas)\n",
    "        The astrometric parallax of the star.\n",
    "        \n",
    "    Returns\n",
    "    -------\n",
    "    absolute_magnitude : float\n",
    "        The absolute magnitude of the star\n",
    "    \"\"\"\n",
    "    \n",
    "    absolute_magnitude = apparent_magnitude - 5.0 * np.log10(1.0e2/parallax)\n",
    "    \n",
    "    return absolute_magnitude"
   ]
  },
  {
   "cell_type": "markdown",
   "metadata": {},
   "source": [
    "### Now, let's plot a CMD"
   ]
  },
  {
   "cell_type": "code",
   "execution_count": null,
   "metadata": {
    "collapsed": false
   },
   "outputs": [],
   "source": [
    "G_abs = get_absolution_mag(data['phot_g_mean_mag'], data['parallax'])\n",
    "BP_RP_color = data['phot_bp_mean_mag'] - data['phot_rp_mean_mag']\n",
    "\n",
    "plt.scatter(BP_RP_color, G_abs, marker='.', alpha=0.1)\n",
    "\n",
    "plt.xlabel('BP-RP Color')\n",
    "plt.ylabel(r'$G$ Absolute Magnitude')\n",
    "\n",
    "plt.ylim(17, -5)\n",
    "\n",
    "plt.show()"
   ]
  },
  {
   "cell_type": "markdown",
   "metadata": {},
   "source": [
    "### Now, let's identify Pleiades members using one of our clustering algorithms"
   ]
  },
  {
   "cell_type": "code",
   "execution_count": null,
   "metadata": {
    "collapsed": true
   },
   "outputs": [],
   "source": [
    "# Create data array - we want to identify cluster members using parallax and proper motions\n",
    "X = np.zeros((len(data), 3))\n",
    "\n",
    "X[:,0] = data['parallax']*5.\n",
    "X[:,1] = data['pmra']\n",
    "X[:,2] = data['pmdec']"
   ]
  },
  {
   "cell_type": "markdown",
   "metadata": {},
   "source": [
    "### Pick a model and run it"
   ]
  },
  {
   "cell_type": "code",
   "execution_count": null,
   "metadata": {
    "collapsed": true
   },
   "outputs": [],
   "source": [
    "model_name = ''\n",
    "model = "
   ]
  },
  {
   "cell_type": "code",
   "execution_count": null,
   "metadata": {
    "collapsed": false
   },
   "outputs": [],
   "source": [
    "# Fit mixture model\n",
    "model.fit(X)\n",
    "\n",
    "\n",
    "# Get classifiers\n",
    "if hasattr(model, 'labels_'):\n",
    "    y_pred = model.labels_.astype(np.int)\n",
    "else:\n",
    "    y_pred = model.predict(X)\n",
    "\n",
    "\n",
    "# Add a title to denote which model we ran\n",
    "plt.title(model_name, size=14)\n",
    "\n",
    "# In case some y_pred are negative\n",
    "y_pred[y_pred == -1] = np.max(y_pred) + 1\n",
    "\n",
    "# Set a series of colors, so we don't run out\n",
    "colors = np.array(list(islice(cycle(['#377eb8', '#ff7f00', '#4daf4a',\n",
    "                                     '#f781bf', '#a65628', '#984ea3',\n",
    "                                     '#999999', '#e41a1c', '#dede00']),\n",
    "                              int(max(y_pred) + 1))))\n",
    "\n",
    "\n",
    "# Plot points\n",
    "plt.scatter(X[:, 1], X[:, 2], s=10, color=colors[y_pred])\n",
    "\n",
    "\n",
    "# Plot range\n",
    "plt.xlim(-40, 35)\n",
    "plt.ylim(-60, 30)\n",
    "\n",
    "# Plot labels\n",
    "plt.xlabel(r'$\\mu_{\\alpha}$ (mas yr$^{-1}$)')\n",
    "plt.ylabel(r'$\\mu_{\\delta}$ (mas yr$^{-1}$)')\n",
    "\n",
    "# Color labels\n",
    "patches = []\n",
    "for i in range(len(np.unique(y_pred))):\n",
    "    patches.append(mpatches.Patch(color=colors[i], label=str(i)))\n",
    "\n",
    "\n",
    "plt.legend(handles=patches)\n",
    "\n",
    "    \n",
    "plt.show()"
   ]
  },
  {
   "cell_type": "markdown",
   "metadata": {},
   "source": [
    "### Plot CMD of non-Pleiades stars"
   ]
  },
  {
   "cell_type": "code",
   "execution_count": null,
   "metadata": {
    "collapsed": false
   },
   "outputs": [],
   "source": [
    "# Determine absolute magnitude - unextincted\n",
    "G_abs = get_absolute_mag(data['phot_g_mean_mag'], data['parallax'])\n",
    "\n",
    "# Determine color - unreddened\n",
    "BP_RP_color = data['phot_bp_mean_mag'] - data['phot_rp_mean_mag']\n",
    "\n",
    "\n",
    "# All stars not part of Pleiades\n",
    "plt.scatter(BP_RP_color[y_pred!=idx], G_abs[y_pred!=idx], marker='.', alpha=0.1)\n",
    "\n",
    "plt.xlabel('BP-RP Color')\n",
    "plt.ylabel(r'$G$ Absolute Magnitude')\n",
    "\n",
    "plt.ylim(17, -5)\n",
    "\n",
    "plt.show()"
   ]
  },
  {
   "cell_type": "markdown",
   "metadata": {},
   "source": [
    "### Plot CMD of Pleiades stars, with isochrones"
   ]
  },
  {
   "cell_type": "code",
   "execution_count": null,
   "metadata": {
    "collapsed": true
   },
   "outputs": [],
   "source": [
    "# Load up isochrones from MIST models\n",
    "isochrones_Z000 = np.load(\"./Gaia_bands_young_Z000.npy\")\n",
    "isochrones_Z025 = np.load(\"./Gaia_bands_young_Z025.npy\")\n",
    "isochrones_Z050 = np.load(\"./Gaia_bands_young_Z050.npy\")\n",
    "\n",
    "# Extinction and reddening of the Pleiades\n",
    "A_G = 0.25\n",
    "A_BP = 0.28\n",
    "A_RP = 0.13\n",
    "E_BP_RP = A_BP - A_RP"
   ]
  },
  {
   "cell_type": "code",
   "execution_count": null,
   "metadata": {
    "collapsed": false
   },
   "outputs": [],
   "source": [
    "fig, ax = plt.subplots(1, 3, figsize=(12, 3.5))\n",
    "\n",
    "# Determine absolute magnitude - unextincted\n",
    "G_abs = get_absolute_mag(data['phot_g_mean_mag'], data['parallax']) - A_G\n",
    "\n",
    "# Determine color - unreddened\n",
    "BP_RP_color = data['phot_bp_mean_mag'] - data['phot_rp_mean_mag'] - E_BP_RP\n",
    "\n",
    "\n",
    "\n",
    "##### Plieades stars #####\n",
    "idx =  # Index for Pleiades class from classification\n",
    "\n",
    "for j in range(3):\n",
    "\n",
    "    # Plot CMD\n",
    "    ax[j].scatter(BP_RP_color[y_pred==idx], G_abs[y_pred==idx], marker='.')\n",
    "\n",
    "    ax[j].set_xlabel('BP-RP Color')\n",
    "    ax[j].set_ylabel(r'$G$ Absolute Magnitude')\n",
    "\n",
    "    ax[j].set_ylim(17, -5)\n",
    "\n",
    "\n",
    "    \n",
    "titles = ['[Fe/H] = 0', '[Fe/H] = +0.25', '[Fe/H] = +0.50']\n",
    "    \n",
    "for j, isochrones in enumerate([isochrones_Z000, isochrones_Z025, isochrones_Z050]):\n",
    "\n",
    "    ##### Plot Isochrones #####\n",
    "    for i, age in enumerate(np.unique(isochrones['age'])):\n",
    "        color = isochrones[isochrones['age']==age]['Gaia_BP'] - isochrones[isochrones['age']==age]['Gaia_RP']\n",
    "        magnitude = isochrones[isochrones['age']==age]['Gaia_G']\n",
    "\n",
    "        ax[j].plot(color, magnitude, color='k', alpha=0.3)\n",
    "        ax[j].text(2.5, -4.0+i, \"%.0f\"%10**(age-6.0) + ' Myr', fontsize=8)\n",
    "    \n",
    "        ax[j].set_title(titles[j])\n",
    "\n",
    "    \n",
    "\n",
    "plt.tight_layout()\n",
    "plt.show()"
   ]
  },
  {
   "cell_type": "markdown",
   "metadata": {},
   "source": [
    "### What is the age, metallicity, and reddening of the Pleiades???"
   ]
  },
  {
   "cell_type": "code",
   "execution_count": null,
   "metadata": {
    "collapsed": true
   },
   "outputs": [],
   "source": []
  }
 ],
 "metadata": {
  "anaconda-cloud": {},
  "kernelspec": {
   "display_name": "Python [default]",
   "language": "python",
   "name": "python3"
  },
  "language_info": {
   "codemirror_mode": {
    "name": "ipython",
    "version": 3
   },
   "file_extension": ".py",
   "mimetype": "text/x-python",
   "name": "python",
   "nbconvert_exporter": "python",
   "pygments_lexer": "ipython3",
   "version": "3.5.2"
  }
 },
 "nbformat": 4,
 "nbformat_minor": 1
}
