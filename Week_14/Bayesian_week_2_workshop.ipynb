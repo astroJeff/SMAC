{
 "cells": [
  {
   "cell_type": "code",
   "execution_count": 72,
   "metadata": {
    "collapsed": true
   },
   "outputs": [],
   "source": [
    "from IPython.display import display, Math, Latex"
   ]
  },
  {
   "cell_type": "markdown",
   "metadata": {},
   "source": [
    "* Let P(x) ~ x^2\n",
    "* Normalize P(x): $\\int_{-\\inf}^{x_{max}}{\\beta \\cdot x^2} = 1$ $\\Rightarrow$ $\\beta = \\frac{3}{x_{max}^3}$"
   ]
  },
  {
   "cell_type": "code",
   "execution_count": 126,
   "metadata": {
    "collapsed": false,
    "scrolled": true
   },
   "outputs": [],
   "source": [
    "\n",
    "#-=-=-=-=-=-=-=-=-=-=-=-=-=-=-=-=-=-=-=-=-=-=-=-=-=-=-=-=-=-=-=-=-=-=-=-=-=-=-=-=-=-=-#\n",
    "import numpy as np                                                                    # \n",
    "from matplotlib import pyplot as plt                                                  #\n",
    "from scipy import stats                                                               #\n",
    "from astroML.stats.random import trunc_exp                                            #\n",
    "from astroML.plotting import setup_text_plots                                         #\n",
    "from scipy import integrate                                                           #\n",
    "from scipy.optimize import fmin,leastsq,fminbound,basinhopping                        #\n",
    "from scipy import optimize                                                            #\n",
    "#%matplotlib inline                                                                   #\n",
    "#-=-=-=-=-=-=-=-=-=-=-=-=-=-=-=-=-=-=-=-=-=-=-=-=-=-=-=-=-=-=-=-=-=-=-=-=-=-=-=-=-=-=-#\n",
    "\n",
    "#-=-=-=-=-=-=-=-=-=-=-=-=-=-=-=-=-=-=-=-=-=-=-=-=-=-=-=-=-=-=-=-=-=-=-=-=-=-=-=-=-=-=-#\n",
    "#                      STEP 1 - create our analytical function                        #\n",
    "Npoints=100                                                                           #\n",
    "a = 2.                                                                                #\n",
    "x = np.linspace(0.01, 1, Npoints)                                                     #\n",
    "P_x = 3./max(x)**3 * x**a                                                             #\n",
    "                                                                                      #\n",
    "#                    STEP 2 - create our intrinsic distribution                       #\n",
    "intrinsic_distribution = (np.random.uniform(size=Npoints))**(1.0/3.0) * max(x)        # \n",
    "                                                                                      #\n",
    "#                STEP 3 - create our mock data/observed distribution                  #\n",
    "sigma=0.2                                                                             #\n",
    "noise=np.random.normal(loc=0., scale=sigma, size=Npoints)                             #\n",
    "observed_distribution = intrinsic_distribution + noise                                #\n",
    "fig, ax= plt.subplots(figsize=(8, 10))                                                #\n",
    "bins=np.linspace(min(observed_distribution), max(observed_distribution), 30)          #\n",
    "ax.hist(intrinsic_distribution, histtype='step', color='k', linewidth=2., bins=bins, normed=True, label='true')\n",
    "ax.hist(observed_distribution, histtype='step', color='b', linewidth=2., bins=bins, normed=True, label='observed')\n",
    "ax.plot(x, P_x, \"r--\", linewidth=2)                                                   #\n",
    "ax.legend(loc='upper left')                                                           #\n",
    "plt.show()                                                                            #\n",
    "#-=-=-=-=-=-=-=-=-=-=-=-=-=-=-=-=-=-=-=-=-=-=-=-=-=-=-=-=-=-=-=-=-=-=-=-=-=-=-=-=-=-=-#\n",
    "binsize=bins[1]-bins[0]\n"
   ]
  },
  {
   "cell_type": "markdown",
   "metadata": {},
   "source": [
    "Now we want to maximize:\n",
    "$$ P(A|B) = \\frac{P(B|A) P(A)}{P(B)} $$\n",
    "\n",
    "or in other words minimize the negative logarithm of the expression above:\n",
    "$$ -log(P(B|A)) -log(P(A)) $$\n",
    "\n",
    "\n",
    "\n",
    "\n",
    "                           WHAT IS THE LIKELIHOOD??\n",
    "\n",
    "* For arbitrary exponent a, P(x) ~$x^a$ is normalized as P(x) = $(a+1) \\cdot x^a (\\frac{1}{x_{max}^{a+1}} - \\frac{1}{x_{min}^{a+1}})$ $\\Rightarrow$ P(x) = $(a+1) \\cdot x^a \\frac{1}{x_{max}^{a+1}}$\n",
    "\n",
    "since we integrate from $-\\infty$ to $x_{max}$\n",
    "\n",
    "* Convolved with (assumed) gaussian errors the likelihood is thus: \n",
    "P(B|A) = $\\frac{1}{\\sigma\\cdot \\sqrt{2 \\cdot \\pi}}$ $\\int_{x_{min}}^{x_{max}}{P(x)\\cdot e^{\\frac{-(x-x')^2}{2\\cdot \\sigma}}} dx'$\n"
   ]
  },
  {
   "cell_type": "code",
   "execution_count": 139,
   "metadata": {
    "collapsed": false
   },
   "outputs": [],
   "source": [
    "#-=-=-=-=-=-=-=-=-=-=-=-=-=-=-=-=-=-=-=-=-=-=-=-=-=-=-=-=-=-=-=-=-=-=-=-=-=-=-=-=-=-=-#\n",
    "#                So we need to evaluate the integral above for each point             #\n",
    "#                                                                                     #\n",
    "#                          Define integral function                                   #\n",
    "def integral(xprime, xobs, a, sigma):                                                 #\n",
    "    return (a+1) * (1.0/(max(x)**(a+1))) * xprime**a * np.exp(-(xobs-xprime)**2/(2*sigma**2))/(sigma*np.sqrt(2*np.pi))\n",
    "#                                                                                     #\n",
    "#                                                                                     #\n",
    "#                        Define likelihood function                                   #\n",
    "def calcLikelihood(a, observed_distribution, sigma):                                  #\n",
    "                                                                                      #\n",
    "    LikelihoodProduct=[]                                                              #\n",
    "                                                                                      #\n",
    "    for i in range (0, len(observed_distribution)):                                   #\n",
    "                                                                                      #\n",
    "        xobs=observed_distribution[i]                                                 #\n",
    "                                                                                      #\n",
    "        Likelihood_point, error_point = integrate.quad(integral, min(x), max(x), args=(xobs, a, sigma))\n",
    "                                                                                      #\n",
    "        LikelihoodProduct.append(Likelihood_point)                                    #\n",
    "                                                                                      #\n",
    "    LikelihoodProduct=np.array(LikelihoodProduct)                                     #\n",
    "                                                                                      #\n",
    "    LikelihoodProduct=np.log(LikelihoodProduct)                                       #\n",
    "                                                                                      #\n",
    "    return LikelihoodProduct.sum()                                                    #\n",
    "                                                                                      #\n",
    "#                          Define prior function                                      #\n",
    "def prior(a):                                                                         #\n",
    "    #   For a flat distribution  #                                                    #\n",
    "    if a>100. and a<-100.:                                                            #\n",
    "        return -np.inf                                                                #\n",
    "    else:                                                                             #\n",
    "        return 0.                                                                     #\n",
    "                                                                                      #\n",
    "#                            add the two (log space)                                  #\n",
    "def multiply(a, observed_distribution, sigma):                                        #\n",
    "    return -(calcLikelihood(a, observed_distribution, sigma) + prior(a))              #\n",
    "#-=-=-=-=-=-=-=-=-=-=-=-=-=-=-=-=-=-=-=-=-=-=-=-=-=-=-=-=-=-=-=-=-=-=-=-=-=-=-=-=-=-=-#\n"
   ]
  },
  {
   "cell_type": "code",
   "execution_count": 140,
   "metadata": {
    "collapsed": false
   },
   "outputs": [
    {
     "name": "stdout",
     "output_type": "stream",
     "text": [
      "('Optimization successful. Power law exponent:', array([ 1.68969384]))\n"
     ]
    }
   ],
   "source": [
    "#-=-=-=-=-=-=-=-=-=-=-=-=-=-=-=-=-=-=-=-=-=-=-=-=-=-=-=-=-=-=-=-=-=-=-=-=-=-=-=-=-=-=-#\n",
    "#                          Minimize the sum (minus the sum)                           #\n",
    "a_initguess = -0.1                                                                    #\n",
    "bounds = ((-0.99, 100.0),)                                                            #\n",
    "xopt = optimize.minimize(multiply, a_initguess, args=(observed_distribution, sigma), method='TNC', bounds=bounds)\n",
    "                                                                                      #\n",
    "if xopt.success:                                                                      #\n",
    "    print(\"Optimization successful. Power law exponent:\", xopt.x)                     #\n",
    "else:                                                                                 #\n",
    "    print(\"Optimization failed.\")                                                     #\n",
    "#-=-=-=-=-=-=-=-=-=-=-=-=-=-=-=-=-=-=-=-=-=-=-=-=-=-=-=-=-=-=-=-=-=-=-=-=-=-=-=-=-=-=-#"
   ]
  },
  {
   "cell_type": "code",
   "execution_count": 141,
   "metadata": {
    "collapsed": false
   },
   "outputs": [
    {
     "name": "stderr",
     "output_type": "stream",
     "text": [
      "/usr/local/lib/python2.7/dist-packages/ipykernel/__main__.py:24: RuntimeWarning: invalid value encountered in log\n"
     ]
    }
   ],
   "source": [
    "#-=-=-=-=-=-=-=-=-=-=-=-=-=-=-=-=-=-=-=-=-=-=-=-=-=-=-=-=-=-=-=-=-=-=-=-=-=-=-=-=-=-=-#\n",
    "#                        How does the likelihood looks like???                        #\n",
    "agrid=np.linspace(-20, 20, 100)                                                       #\n",
    "L_func_a = []                                                                         #\n",
    "for i in range (0, len(agrid)):                                                       #\n",
    "    L_func_a.append(multiply(agrid[i], observed_distribution, sigma))                 #\n",
    "plt.plot(agrid, L_func_a, linewidth=1.5, color='k')                                   #\n",
    "plt.ylabel('Likelihood')                                                              #\n",
    "plt.xlabel('exponent values')                                                         #\n",
    "plt.show()"
   ]
  },
  {
   "cell_type": "code",
   "execution_count": null,
   "metadata": {
    "collapsed": true
   },
   "outputs": [],
   "source": []
  }
 ],
 "metadata": {
  "kernelspec": {
   "display_name": "Python 2",
   "language": "python",
   "name": "python2"
  },
  "language_info": {
   "codemirror_mode": {
    "name": "ipython",
    "version": 2
   },
   "file_extension": ".py",
   "mimetype": "text/x-python",
   "name": "python",
   "nbconvert_exporter": "python",
   "pygments_lexer": "ipython2",
   "version": "2.7.6"
  }
 },
 "nbformat": 4,
 "nbformat_minor": 1
}
