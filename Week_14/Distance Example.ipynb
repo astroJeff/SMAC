{
 "cells": [
  {
   "cell_type": "code",
   "execution_count": 1,
   "metadata": {
    "collapsed": true
   },
   "outputs": [],
   "source": [
    "import numpy as np\n",
    "import matplotlib.pyplot as plt\n",
    "from scipy import stats\n",
    "from scipy import optimize as so\n",
    "from scipy.integrate import quad\n",
    "\n",
    "%matplotlib inline"
   ]
  },
  {
   "cell_type": "markdown",
   "metadata": {},
   "source": [
    "### First, let's generate a sample from an exponential and add Gaussian noise"
   ]
  },
  {
   "cell_type": "code",
   "execution_count": 2,
   "metadata": {
    "collapsed": false
   },
   "outputs": [
    {
     "data": {
      "image/png": "[encoded data removed]",
      "text/plain": [
       "<matplotlib.figure.Figure at 0x7fb768482d30>"
      ]
     },
     "metadata": {},
     "output_type": "display_data"
    }
   ],
   "source": [
    "# Assume a constant volume sphere, with Earth at the center. \n",
    "# Then draw random distances\n",
    "\n",
    "# P(dist) ~ dist^2\n",
    "# Normalize to solve for the coefficient: P(dist) = 3/dist_max^3 * dist^2\n",
    "\n",
    "# Draw random distances using inverse sampling\n",
    "size=100\n",
    "dist_max = 1.0 # in kpc\n",
    "dist = (np.random.uniform(size=size))**(1.0/3.0) * dist_max\n",
    "\n",
    "# Plot sample\n",
    "bins = np.linspace(0.0, 1.0, 30)\n",
    "plt.hist(dist, bins=bins, normed=True, label='True')\n",
    "\n",
    "# Plot analytic\n",
    "plt.plot(bins, 3.0 * bins**2 * dist_max**-3, linewidth=2.0)\n",
    "\n",
    "# Now add uncertainties of 100 pc\n",
    "dist_obs = dist + np.random.normal(size=size, scale=0.1)\n",
    "# Array of errors\n",
    "dist_err = 0.1 * np.ones(len(dist_obs))\n",
    "\n",
    "\n",
    "bins = np.linspace(0.0, 1.3, 30)\n",
    "plt.hist(dist_obs, bins=bins, normed=True, histtype='step', \n",
    "         linewidth=2.0, color='k', label='Observed')\n",
    "\n",
    "\n",
    "plt.legend(loc=2)\n",
    "\n",
    "plt.show()"
   ]
  },
  {
   "cell_type": "markdown",
   "metadata": {},
   "source": [
    "### First, let's see if we can recover the exponential in the power law. We will start with the true distances"
   ]
  },
  {
   "cell_type": "code",
   "execution_count": 27,
   "metadata": {
    "collapsed": false
   },
   "outputs": [],
   "source": [
    "# This is the normalized pdf for arbitrary alpha\n",
    "def func_pdf(alpha, x_max, x):\n",
    "    P_x = (alpha) * x**(alpha-1.0) * dist_max**(-alpha)\n",
    "    P_x[x>x_max] = 0.0 \n",
    "    P_x[x<0.0] = 0.0\n",
    "    return P_x\n",
    "\n",
    "def ln_prior(alpha):\n",
    "    if alpha < 0.0:\n",
    "        return -np.inf\n",
    "    \n",
    "    return 0.0\n",
    "\n",
    "\n",
    "def ln_likelihood(alpha, x_max, x_obs):\n",
    "    return np.sum(np.log(func_pdf(alpha, x_max, x_obs)))\n",
    "\n",
    "\n",
    "def ln_posterior(alpha, x_max, x_obs):\n",
    "    \n",
    "    lp = ln_prior(alpha)\n",
    "    ll = ln_likelihood(alpha, x_max, x_obs)\n",
    "        \n",
    "    return lp+ll\n",
    "\n",
    "\n",
    "def neg_ln_posterior(alpha, x_max, x_obs):\n",
    "    return -ln_posterior(alpha, x_max, x_obs)"
   ]
  },
  {
   "cell_type": "code",
   "execution_count": 28,
   "metadata": {
    "collapsed": false
   },
   "outputs": [
    {
     "name": "stdout",
     "output_type": "stream",
     "text": [
      "Expected result: 3.0\n",
      "Result: [ 3.36201915]\n"
     ]
    }
   ],
   "source": [
    "# We will give it the wrong starting value\n",
    "p0 = 1.0\n",
    "\n",
    "res = so.minimize(neg_ln_posterior, p0, args=(1.0, dist))\n",
    "if res.success:\n",
    "    print(\"Expected result: 3.0\")\n",
    "    print(\"Result:\", res.x)\n",
    "else:\n",
    "    print(\"Optimization failed\")"
   ]
  },
  {
   "cell_type": "markdown",
   "metadata": {},
   "source": [
    "### Now, let's see if we can account for the uncertainties"
   ]
  },
  {
   "cell_type": "code",
   "execution_count": 16,
   "metadata": {
    "collapsed": true
   },
   "outputs": [],
   "source": [
    "# This is the normalized pdf for arbitrary alpha\n",
    "def func_pdf(alpha, x_max, x):\n",
    "    P_x = (alpha) * x**(alpha-1.0) * dist_max**(-alpha)\n",
    "    \n",
    "    if type(x) is np.ndarray:\n",
    "        P_x[x>x_max] = 0.0 \n",
    "        P_x[x<0.0] = 0.0\n",
    "    elif x>x_max:\n",
    "        return 0.0\n",
    "    elif x<0.0:\n",
    "        return 0.0\n",
    "    else:\n",
    "        pass\n",
    "        \n",
    "    return P_x\n",
    "\n",
    "def func_integrand(x, alpha, x_max, x_obs, x_err):\n",
    "    return stats.norm.pdf(x, loc=x_obs, scale=x_err) * func_pdf(alpha, x_max, x)\n",
    "\n",
    "def ln_prior(alpha):\n",
    "    if alpha < 0.0:\n",
    "        return -np.inf\n",
    "    \n",
    "    return 0.0\n",
    "\n",
    "\n",
    "def ln_likelihood(alpha, x_max, x_obs, x_err):\n",
    "    \n",
    "    ln_likelihood = 0.0\n",
    "    for i in range(len(x_obs)):\n",
    "        \n",
    "        # Limits are either the limits of the pdf or 5 sigma from the observed value\n",
    "        a = max(0.0, x_obs[i]-3.0*x_err[i])\n",
    "        b = min(x_max, x_obs[i]+3.0*x_err[i])\n",
    "        \n",
    "        val = quad(func_integrand, a, b, args=(alpha, x_max, x_obs[i], x_err[i]), \n",
    "                   epsrel=1.0e-4, epsabs=1.0e-4)\n",
    "        ln_likelihood += np.log(val[0])\n",
    "    \n",
    "    return ln_likelihood\n",
    "\n",
    "\n",
    "def ln_posterior(alpha, x_max, x_obs, x_err):\n",
    "    \n",
    "    lp = ln_prior(alpha)\n",
    "    ll = ln_likelihood(alpha, x_max, x_obs, x_err)\n",
    "                        \n",
    "    return lp+ll\n",
    "\n",
    "\n",
    "def neg_ln_posterior(alpha, x_max, x_obs, x_err):\n",
    "    return -ln_posterior(alpha, x_max, x_obs, x_err)"
   ]
  },
  {
   "cell_type": "code",
   "execution_count": 17,
   "metadata": {
    "collapsed": false
   },
   "outputs": [
    {
     "name": "stdout",
     "output_type": "stream",
     "text": [
      "Expected result: 3.0\n",
      "Result: [ 3.51069161]\n"
     ]
    }
   ],
   "source": [
    "# We will give it the wrong starting value\n",
    "p0 = 6.0\n",
    "dist_max = 1.0\n",
    "\n",
    "res = so.minimize(neg_ln_posterior, p0, args=(dist_max, dist_obs, dist_err))\n",
    "if res.success:\n",
    "    print(\"Expected result: 3.0\")\n",
    "    print(\"Result:\", res.x)\n",
    "else:\n",
    "    print(\"Optimization failed\")"
   ]
  },
  {
   "cell_type": "code",
   "execution_count": null,
   "metadata": {
    "collapsed": true
   },
   "outputs": [],
   "source": []
  },
  {
   "cell_type": "code",
   "execution_count": null,
   "metadata": {
    "collapsed": true
   },
   "outputs": [],
   "source": []
  }
 ],
 "metadata": {
  "anaconda-cloud": {},
  "kernelspec": {
   "display_name": "Python 3",
   "language": "python",
   "name": "python3"
  },
  "language_info": {
   "codemirror_mode": {
    "name": "ipython",
    "version": 3
   },
   "file_extension": ".py",
   "mimetype": "text/x-python",
   "name": "python",
   "nbconvert_exporter": "python",
   "pygments_lexer": "ipython3",
   "version": "3.5.2"
  }
 },
 "nbformat": 4,
 "nbformat_minor": 1
}
