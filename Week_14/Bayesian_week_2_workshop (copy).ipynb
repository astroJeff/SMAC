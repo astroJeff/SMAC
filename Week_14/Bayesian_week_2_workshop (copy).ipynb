{
 "cells": [
  {
   "cell_type": "markdown",
   "metadata": {},
   "source": []
  },
  {
   "cell_type": "code",
   "execution_count": 3,
   "metadata": {
    "collapsed": false,
    "scrolled": true
   },
   "outputs": [
    {
     "data": {
      "image/png": "[encoded data removed]",
      "text/plain": [
       "<matplotlib.figure.Figure at 0x7f04c2ce4350>"
      ]
     },
     "metadata": {},
     "output_type": "display_data"
    }
   ],
   "source": [
    "#-=-=-=-=-=-=-=-=-=-=-=-=-=-=-=-=-=-=-=-=-=-=-=-=-=-=-=-=-=-=-=-=-=-=-=-=-=-=-=-=-=-=-#\n",
    "import numpy as np                                                                    # \n",
    "from matplotlib import pyplot as plt                                                  #\n",
    "from scipy import stats                                                               #\n",
    "from astroML.stats.random import trunc_exp                                            #\n",
    "from astroML.plotting import setup_text_plots                                         #\n",
    "from scipy import integrate                                                           #\n",
    "#-=-=-=-=-=-=-=-=-=-=-=-=-=-=-=-=-=-=-=-=-=-=-=-=-=-=-=-=-=-=-=-=-=-=-=-=-=-=-=-=-=-=-#\n",
    "\n",
    "#-=-=-=-=-=-=-=-=-=-=-=-=-=-=-=-=-=-=-=-=-=-=-=-=-=-=-=-=-=-=-=-=-=-=-=-=-=-=-=-=-=-=-#\n",
    "#                      STEP 1 - CREATE OUR DISTRIBUTION                               #\n",
    "size=100\n",
    "dist_max = 1.0 # in kpc\n",
    "dist = (np.random.uniform(size=size))**(1.0/3.0) * dist_max\n",
    "\n",
    "# Plot sample\n",
    "bins = np.linspace(0.0, 1.0, 30)\n",
    "plt.hist(dist, bins=bins, normed=True, label='True')\n",
    "\n",
    "# Plot analytic\n",
    "plt.plot(bins, 3.0 * bins**2 * dist_max**-3, linewidth=2.0)\n",
    "\n",
    "# Now add uncertainties of 100 pc\n",
    "observed_distribution = dist + np.random.normal(size=size, scale=0.1)\n",
    "# Array of errors\n",
    "dist_err = 0.1 * np.ones(len(observed_distribution))\n",
    "\n",
    "\n",
    "bins = np.linspace(0.0, 1.3, 30)\n",
    "plt.hist(observed_distribution, bins=bins, normed=True, histtype='step', \n",
    "         linewidth=2.0, color='k', label='Observed')\n",
    "\n",
    "\n",
    "plt.legend(loc=2)\n",
    "\n",
    "plt.show()\n",
    "\n",
    "\n",
    "#\n",
    "#-=-=-=-=-=-=-=-=-=-=-=-=-=-=-=-=-=-=-=-=-=-=-=-=-=-=-=-=-=-=-=-=-=-=-=-=-=-=-=-=-=-=-#\n"
   ]
  },
  {
   "cell_type": "code",
   "execution_count": 8,
   "metadata": {
    "collapsed": false
   },
   "outputs": [
    {
     "name": "stderr",
     "output_type": "stream",
     "text": [
      "/usr/local/lib/python2.7/dist-packages/ipykernel/__main__.py:20: RuntimeWarning: divide by zero encountered in double_scalars\n",
      "/usr/local/lib/python2.7/dist-packages/ipykernel/__main__.py:20: RuntimeWarning: invalid value encountered in double_scalars\n",
      "/usr/lib/python2.7/dist-packages/scipy/integrate/quadpack.py:357: IntegrationWarning: The occurrence of roundoff error is detected, which prevents \n",
      "  the requested tolerance from being achieved.  The error may be \n",
      "  underestimated.\n",
      "  warnings.warn(msg, IntegrationWarning)\n"
     ]
    },
    {
     "ename": "IndexError",
     "evalue": "index 30 is out of bounds for axis 0 with size 30",
     "output_type": "error",
     "traceback": [
      "\u001b[0;31m---------------------------------------------------------------------------\u001b[0m",
      "\u001b[0;31mIndexError\u001b[0m                                Traceback (most recent call last)",
      "\u001b[0;32m<ipython-input-8-db3ea931223b>\u001b[0m in \u001b[0;36m<module>\u001b[0;34m()\u001b[0m\n\u001b[1;32m     66\u001b[0m \u001b[0mplt\u001b[0m\u001b[0;34m.\u001b[0m\u001b[0mshow\u001b[0m\u001b[0;34m(\u001b[0m\u001b[0;34m)\u001b[0m\u001b[0;34m\u001b[0m\u001b[0m\n\u001b[1;32m     67\u001b[0m \u001b[0;34m\u001b[0m\u001b[0m\n\u001b[0;32m---> 68\u001b[0;31m \u001b[0;32mprint\u001b[0m\u001b[0;34m(\u001b[0m\u001b[0mcalcLikelihood\u001b[0m\u001b[0;34m(\u001b[0m\u001b[0;36m2\u001b[0m\u001b[0;34m,\u001b[0m \u001b[0;36m1\u001b[0m\u001b[0;34m)\u001b[0m\u001b[0;34m)\u001b[0m\u001b[0;34m\u001b[0m\u001b[0m\n\u001b[0m\u001b[1;32m     69\u001b[0m \u001b[0;34m\u001b[0m\u001b[0m\n\u001b[1;32m     70\u001b[0m \u001b[0;31m#xin = 2\u001b[0m\u001b[0;34m\u001b[0m\u001b[0;34m\u001b[0m\u001b[0m\n",
      "\u001b[0;32m<ipython-input-8-db3ea931223b>\u001b[0m in \u001b[0;36mcalcLikelihood\u001b[0;34m(a, b)\u001b[0m\n\u001b[1;32m     29\u001b[0m     \u001b[0;32mfor\u001b[0m \u001b[0mi\u001b[0m \u001b[0;32min\u001b[0m \u001b[0mrange\u001b[0m \u001b[0;34m(\u001b[0m\u001b[0;36m0\u001b[0m\u001b[0;34m,\u001b[0m \u001b[0mlen\u001b[0m\u001b[0;34m(\u001b[0m\u001b[0mobserved_distribution\u001b[0m\u001b[0;34m)\u001b[0m\u001b[0;34m)\u001b[0m\u001b[0;34m:\u001b[0m\u001b[0;34m\u001b[0m\u001b[0m\n\u001b[1;32m     30\u001b[0m \u001b[0;34m\u001b[0m\u001b[0m\n\u001b[0;32m---> 31\u001b[0;31m         \u001b[0mxobs\u001b[0m \u001b[0;34m=\u001b[0m \u001b[0mbins\u001b[0m\u001b[0;34m[\u001b[0m\u001b[0mi\u001b[0m\u001b[0;34m]\u001b[0m\u001b[0;31m#\u001b[0m\u001b[0;34m\u001b[0m\u001b[0m\n\u001b[0m\u001b[1;32m     32\u001b[0m \u001b[0;34m\u001b[0m\u001b[0m\n\u001b[1;32m     33\u001b[0m         \u001b[0msigma\u001b[0m \u001b[0;34m=\u001b[0m  \u001b[0mnp\u001b[0m\u001b[0;34m.\u001b[0m\u001b[0msqrt\u001b[0m\u001b[0;34m(\u001b[0m\u001b[0mxobs\u001b[0m\u001b[0;34m)\u001b[0m\u001b[0;34m\u001b[0m\u001b[0m\n",
      "\u001b[0;31mIndexError\u001b[0m: index 30 is out of bounds for axis 0 with size 30"
     ]
    }
   ],
   "source": [
    "#-=-=-=-=-=-=-=-=-=-=-=-=-=-=-=-=-=-=-=-=-=-=-=-=-=-=-=-=-=-=-=-=-=-=-=-=-=-=-=-=-=-=-#\n",
    "#                     STEP 3 - CALCULATE THE LIKELIHOOD                               #\n",
    "#                                                                                     #\n",
    "#                         P(D|M)  *  P(M)                                             #\n",
    "#              P (M|D) = ------------------                                           #\n",
    "#                               P(D)                                                  #\n",
    "#                                                                                     #\n",
    "#    * P(M) = prior                                                                   #\n",
    "#    * P(D|M) - likelihood                                                            #\n",
    "#                                                                                     #\n",
    "#                           WHAT IS THE LIKELIHOOD?                                   #\n",
    "#                                                                                     #\n",
    "#      P(D|M) = S h(x')*e(x-x')dx' = S (analytical_function)*(errors) =>              #\n",
    "#                                  = S b*x^a * exp(-(x-x')^2/(2*sigma^2))dx'          #\n",
    "#                                                                                     #\n",
    "def integral(xprime, xobs, a, b, sigma):  \n",
    "    \n",
    "    norm_factor = (a+1)/(b*dist_max**(a+1))\n",
    "    return b * xprime ** a * np.exp(-(xobs-xprime)**2\n",
    "                                    /(2*sigma**2))/(sigma*np.sqrt(2*np.pi))\n",
    "#\n",
    "#                                                                                     #\n",
    "#        \n",
    "#\n",
    "def calcLikelihood(a, b):                \n",
    "                                                                                      #\n",
    "    LikelihoodProduct=[]                                                              #\n",
    "                                                                                      #\n",
    "    for i in range (0, len(observed_distribution)):  \n",
    "        \n",
    "        xobs = bins[i]#\n",
    "        \n",
    "        sigma =  np.sqrt(xobs)\n",
    "                                                                                      #\n",
    "        Likelihood_point, error_point = integrate.quad(integral, min(observed_distribution)\n",
    "                                                       , max(observed_distribution)\n",
    "                                                       , args=(xobs, a, b, sigma))\n",
    "                                                                                      #\n",
    "        LikelihoodProduct.append((Likelihood_point))       #\n",
    "                                                                                      #\n",
    "    LikelihoodProduct=np.array(LikelihoodProduct)                                     #\n",
    "                                                                                      #\n",
    "    LikelihoodProduct=np.log(LikelihoodProduct)    \n",
    "    \n",
    "    plt.plot(LikelihoodProduct)\n",
    "    \n",
    "    #print LikelihoodProduct\n",
    "                                                                                      #\n",
    "    return np.prod(LikelihoodProduct)\n",
    "\n",
    "#\n",
    "                               #\n",
    "def prior(a, b):                                                                      #\n",
    "    #   For a flat distribution  #                                                    #\n",
    "    if a>100. and a<-100.:                                                            #\n",
    "        return -np.inf                                                                #\n",
    "    else:                                                                             #\n",
    "        return 1.                                                                     #\n",
    "                                                                                      #\n",
    "def multiply(a, b):                                            #\n",
    "    return calcLikelihood(a, b)*prior(a, b) \n",
    "\n",
    "from scipy import optimize\n",
    "from scipy.optimize import fmin,leastsq,fminbound,basinhopping\n",
    "\n",
    "plt.show()    \n",
    "\n",
    "print(calcLikelihood(2, 1))\n",
    "\n",
    "#xin = 2\n",
    "\n",
    "#xopt = optimize.basinhopping(multiply(a,b), xin,  stepsize=0.1)"
   ]
  },
  {
   "cell_type": "code",
   "execution_count": null,
   "metadata": {
    "collapsed": true
   },
   "outputs": [],
   "source": []
  }
 ],
 "metadata": {
  "kernelspec": {
   "display_name": "Python 2",
   "language": "python",
   "name": "python2"
  },
  "language_info": {
   "codemirror_mode": {
    "name": "ipython",
    "version": 2
   },
   "file_extension": ".py",
   "mimetype": "text/x-python",
   "name": "python",
   "nbconvert_exporter": "python",
   "pygments_lexer": "ipython2",
   "version": "2.7.12"
  }
 },
 "nbformat": 4,
 "nbformat_minor": 1
}
