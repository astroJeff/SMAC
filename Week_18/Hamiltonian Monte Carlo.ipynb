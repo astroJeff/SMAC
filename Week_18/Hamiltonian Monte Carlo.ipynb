{
 "cells": [
  {
   "cell_type": "markdown",
   "metadata": {},
   "source": [
    "# Hamiltonian Monte Carlo\n",
    "### (Or: watch your \"p's\"s and \"q's\")\n",
    "\n",
    "Hamiltonian physics is a re-imagining (of sorts) of the fundamental idea of the conservation of energy. \n",
    "\n",
    "The classical formulation goes something like the following. Assume we have a particle, whose position is denoted by the variable $\\bf{q}$. The momentum of such a particle is defined by the fomula $\\bf{p=mv}$, where $\\bf{v}$ is the first derivative of the position variable, $\\bf{\\dot{q}}$.\n",
    "\n",
    "The kinetic and potential energy of this particle may be represented as:\n",
    "\n",
    "$$\\bf{K(p,q) = \\frac{1}{2}m\\dot{q}^2 \\hspace{1in} U(q)} $$\n",
    "\n",
    "With the $Hamiltonian$ written as the sum of the kinetic and potential energies (scalable to many particles, if needed):\n",
    "\n",
    "$$\\bf{H = K(p,q) + U(q) = \\frac{1}{2}m\\dot{q}^2 + U(q) }$$\n",
    "\n",
    "or\n",
    "\n",
    "$$\\bf{H = \\frac{p}{2m} + U(q)}$$\n",
    "\n",
    "The equation of motion for the particle (or system, for many particles) are given by $Hamilton's~ Equations$:\n",
    "\n",
    "$$\\boxed{\\bf{q=\\frac{\\partial H}{\\partial p}}} \\hspace{1in} \\boxed{\\bf{p=-\\frac{\\partial H}{\\partial q}}}$$\n",
    "\n",
    "This is all fine and dandy, but really? $Why~do~we~care$?\n",
    "\n",
    "Keep this in mind as we move forward: the solution of Hamilton's equations yields a trajectory $-$ positions and momenta as functions of time."
   ]
  },
  {
   "cell_type": "markdown",
   "metadata": {},
   "source": [
    "### Some (re-)definitions\n",
    "\n",
    "For purposes here, Markov chain Monte Carlo (MCMC) is a method to determine expectations (some value of interest) from the posterior distribution of our model. To avoid a [traxoline](https://people.physics.tamu.edu/krisciunas/Traxoline.pdf) moment, the best explanation for this that I've found is: the posterior distribution is a probability distribution that represents your updated beliefs about the parameter after having seen the data. From this probability distribution, we can estimate the value of interest, as well as uncertainties in said value. \n",
    "\n",
    "We need the MCMC to converge to the true expectation value (true estimate) quickly. Fast convergence requires strong conditions of $\\bf{ergodicity}$ - that is, a parameter space may be sufficiently explored statistically by MCMC in a finite amount of time. Specifically, the condition of geometric ergodicity is desirable. In this condition, MCMC estimators follow the central limit theorum, and the properly normalized sum of the probability distribution or posterior, tends towards a normal, or Gaussian distribution. $\\bf{Geometric~ergodicity}$ applies to manifolds (high-dimentional surfaces) and has been historically important in the development of differential geometric analyses, such as General Relativity. \n",
    "\n",
    "$Hamiltonian~Monte~Carlo~(\\bf{HMC})$ is unique in that when it fails to converge, it is recognisable. For example, with the split $\\hat{\\bf{R}}$ statistic, which for well-behaved parameter spaces, should be very near 1.0, and values above 1.1 indicate problems with the fit."
   ]
  },
  {
   "cell_type": "markdown",
   "metadata": {},
   "source": [
    "### Hamiltonian Monte Carlo application\n",
    "\n",
    "Using Hamiltonian dynamics to sample from a distribution requires translating the density function for this distribution to a potential energy function and introducing \"momentum\" variables to go with the original variables of interest (now seen as \"position\" variables). We can then simulate a Markov chain in which each iteration resamples the momentum and then does a Metropolis update with a proposal found using Hamiltonian dynamics.\n",
    "\n",
    "The first step of the HMC process changes only the momentum, with new values randomly extracted from a Gaussian distribution. In the second step, a Metropolis update is performed, using Hamiltonian dynamics to propose a new state. Care must be taken in choosing the number of steps and step size to avoid problems, such as periodicity in parameter space exploration."
   ]
  },
  {
   "cell_type": "markdown",
   "metadata": {},
   "source": [
    "### Why HMC?\n",
    "\n",
    "Let's explore an example, at least graphically, why one might wish to use HMC over other types of MCMC estimation. This example will contrast HMC and random-walk Metropolis MCMC via a 100-dimensional multivariate Gaussian distribution in which the varialbes are independant, with means of zero, and standard deviations of 0.01, 0.02, ..., 0.99, 1.00. The results of the simulations are best seen in a series of plots.\n",
    "\n",
    "<img src=\"Location_plot.jpg\">\n",
    "<img src=\"Accuracy.jpg\">"
   ]
  },
  {
   "cell_type": "markdown",
   "metadata": {},
   "source": [
    "### References:\n",
    "\n",
    "1. http://www.mcmchandbook.net/HandbookChapter5.pdf\n",
    "2. http://stats.stackexchange.com/questions/58564/help-me-understand-bayesian-prior-and-posterior-distributions\n",
    "3. http://www.nyu.edu/classes/tuckerman/stat.mech/lectures/lecture_1/node4.html\n",
    "4. http://mc-stan.org/users/documentation/case-studies/pystan_workflow.html\n"
   ]
  },
  {
   "cell_type": "markdown",
   "metadata": {
    "collapsed": true
   },
   "source": [
    "## Example: The stellar IMF with Metropolis-Hastings and with HMC\n",
    "\n",
    "Salpeter (1955) found that the stellar initial mass function (IMF) for stars above 1$M_\\odot$ has a power law form:\n",
    "\n",
    "$\\frac{dN}{dM} \\propto \\frac{M}{M_\\odot}^{-\\alpha} ~~ or ~~ \\frac{dN}{dlogM} \\propto \\frac{M}{M_\\odot}^{1-\\alpha}$\n",
    "\n",
    "and he estimated $\\alpha=2.35$.\n",
    "\n",
    "Here we will create a set of test stellar mass data, distributed according to the Salpeter mass function, and then we will perform a Markov Chain to guess this (known) slope.  \n",
    "We will give an example using the Metropolis MCMC, and then perform the same procedure with Hamiltonian dynamics.\n",
    "\n",
    "We are given then a set of N stellar masses, with negligible errors in the measurements.\n",
    "Assuming that the minimum and maximum masses are known, the likelihood of the problem is: \n",
    "\n",
    "$\\mathcal L(\\{M_1,M_2,\\ldots,M_N\\};\\alpha) = \\prod_{n=1}^N p(M_n|\\alpha) = \\prod_{n=1}^N c\\left(\\frac{M_n}{M_\\odot}\\right)^{-\\alpha}$\n",
    "\n",
    "where the normalization constant c can be found by:\n",
    "\n",
    "$\\int_{M_{min}}^{M_{max}}c M^{-\\alpha} dM = 1 \\Rightarrow c\\frac{M_{max}^{1-\\alpha}-M_{min}^{1-\\alpha}}{1-\\alpha}=1$\n",
    "\n",
    "First, let's create a function that will construct a Salpeter IMF:"
   ]
  },
  {
   "cell_type": "code",
   "execution_count": 5,
   "metadata": {
    "collapsed": true
   },
   "outputs": [],
   "source": [
    "import math\n",
    "import random\n",
    "\n",
    "def sampleFromSalpeter(N, alpha, M_min, M_max):\n",
    "    # Draw random samples from a Salpeter IMF.\n",
    "    # N     ... number of samples.\n",
    "    # alpha ... power-law index.\n",
    "    # M_min ... lower bound of mass interval.\n",
    "    # M_max ... upper bound of mass interval.\n",
    "    # Convert limits from M to logM.\n",
    "    log_M_Min = math.log(M_min)\n",
    "    log_M_Max = math.log(M_max)\n",
    "    # Since the Salpeter SMF has a negative slope, maximum likelihood occurs at M_min\n",
    "    maxlik = math.pow(M_min, 1.0 - alpha)\n",
    "    \n",
    "    # Prepare array for output masses.\n",
    "    Masses = []\n",
    "    # Fill in array.\n",
    "    while (len(Masses) < N):\n",
    "        # Draw a candidate from logM interval.\n",
    "        logM = random.uniform(log_M_Min,log_M_Max)\n",
    "        M    = math.exp(logM)\n",
    "        # Compute likelihood of candidate from Salpeter SMF.\n",
    "        likelihood = math.pow(M, 1.0 - alpha)\n",
    "        # Accept randomly.\n",
    "        u = random.uniform(0.0,maxlik)\n",
    "        if (u < likelihood):\n",
    "            Masses.append(M)\n",
    "    return Masses"
   ]
  },
  {
   "cell_type": "markdown",
   "metadata": {},
   "source": [
    "We need to defin the logarithmic likelihood function:"
   ]
  },
  {
   "cell_type": "code",
   "execution_count": 11,
   "metadata": {
    "collapsed": true
   },
   "outputs": [],
   "source": [
    "def evaluateLogLikelihood(params, D, N, M_min, M_max):\n",
    "    # Define logarithmic likelihood function.\n",
    "    # params ... array of fit params, here just alpha\n",
    "    # D      ... sum over log(M_n)\n",
    "    # N      ... number of data points.\n",
    "    # M_min  ... lower limit of mass interval\n",
    "    # M_max  ... upper limit of mass interval\n",
    "    alpha = params[0]  # extract alpha\n",
    "    # Compute normalisation constant.\n",
    "    c = (1.0 - alpha)/(math.pow(M_max, 1.0-alpha)\n",
    "                        - math.pow(M_min, 1.0-alpha))\n",
    "    # return log likelihood.\n",
    "    return N*math.log(c) - alpha*D"
   ]
  },
  {
   "cell_type": "markdown",
   "metadata": {},
   "source": [
    "Now we can generate our toy data:"
   ]
  },
  {
   "cell_type": "code",
   "execution_count": 25,
   "metadata": {
    "collapsed": true
   },
   "outputs": [],
   "source": [
    "import numpy as np\n",
    "\n",
    "N      = 1000000  # Draw 1 Million stellar masses.\n",
    "alpha  = 2.35\n",
    "M_min  = 1.0\n",
    "M_max  = 100.0\n",
    "log_M_min  = np.log10(M_min)\n",
    "log_M_max  = np.log10(M_max)\n",
    "Masses = sampleFromSalpeter(N, alpha, M_min, M_max)\n",
    "LogM   = np.log(np.array(Masses))\n",
    "D      = np.mean(LogM)*N"
   ]
  },
  {
   "cell_type": "markdown",
   "metadata": {},
   "source": [
    "And we are ready to initialize our MCMC as we saw the previous time:"
   ]
  },
  {
   "cell_type": "code",
   "execution_count": 26,
   "metadata": {
    "collapsed": true
   },
   "outputs": [],
   "source": [
    "# initial guess for alpha as a list.\n",
    "guess = [3.0]\n",
    "# Prepare storing MCMC chain as list of lists.\n",
    "A = [guess]\n",
    "# define stepsize of MCMC.\n",
    "stepsizes = [0.005]  # list of stepsizes\n",
    "accepted  = 0.0"
   ]
  },
  {
   "cell_type": "code",
   "execution_count": 27,
   "metadata": {},
   "outputs": [
    {
     "name": "stdout",
     "output_type": "stream",
     "text": [
      "Acceptance rate = 0.3304\n"
     ]
    }
   ],
   "source": [
    "# Metropolis-Hastings with 10,000 iterations.\n",
    "for n in range(10000):\n",
    "    old_alpha  = A[len(A)-1]  # old parameter value as array\n",
    "    old_loglik = evaluateLogLikelihood(old_alpha, D, N, M_min,\n",
    "                    M_max)\n",
    "    # Suggest new candidate from Gaussian proposal distribution.\n",
    "    new_alpha = np.zeros([len(old_alpha)])\n",
    "    for i in range(len(old_alpha)):\n",
    "        # Use stepsize provided for every dimension.\n",
    "        new_alpha[i] = random.gauss(old_alpha[i], stepsizes[i])\n",
    "    new_loglik = evaluateLogLikelihood(new_alpha, D, N, M_min,\n",
    "                    M_max)\n",
    "    # Accept new candidate in Monte-Carlo fashing.\n",
    "    if (new_loglik > old_loglik):\n",
    "        A.append(new_alpha)\n",
    "        accepted = accepted + 1.0  # monitor acceptance\n",
    "    else:\n",
    "        u = random.uniform(0.0,1.0)\n",
    "        if (u < math.exp(new_loglik - old_loglik)):\n",
    "            A.append(new_alpha)\n",
    "            accepted = accepted + 1.0  # monitor acceptance\n",
    "        else:\n",
    "            A.append(old_alpha)\n",
    "\n",
    "print(\"Acceptance rate = \"+str(accepted/10000.0))"
   ]
  },
  {
   "cell_type": "code",
   "execution_count": 28,
   "metadata": {
    "collapsed": true
   },
   "outputs": [],
   "source": [
    "# Discard first half of MCMC chain and thin out the rest.\n",
    "Clean = []\n",
    "for n in range(5000,10000):\n",
    "    if (n % 10 == 0):\n",
    "        Clean.append(A[n][0])"
   ]
  },
  {
   "cell_type": "code",
   "execution_count": 29,
   "metadata": {},
   "outputs": [
    {
     "name": "stdout",
     "output_type": "stream",
     "text": [
      "Mean:  2.34995211681\n",
      "Sigma: 0.00137373754072\n"
     ]
    }
   ],
   "source": [
    "# Print Monte-Carlo estimate of alpha.\n",
    "print(\"Mean:  \"+str(np.mean(Clean)))\n",
    "print(\"Sigma: \"+str(np.std(Clean)))"
   ]
  },
  {
   "cell_type": "code",
   "execution_count": 20,
   "metadata": {},
   "outputs": [
    {
     "data": {
      "image/png": "[encoded data removed]",
      "text/plain": [
       "<matplotlib.figure.Figure at 0x118da9dd8>"
      ]
     },
     "metadata": {},
     "output_type": "display_data"
    }
   ],
   "source": [
    "import matplotlib.pyplot as plt\n",
    "\n",
    "plt.figure(1)\n",
    "plt.hist(Clean, 20, histtype='step', lw=2)\n",
    "plt.xticks([2.346,2.348,2.35,2.352,2.354],\n",
    "           [2.346,2.348,2.35,2.352,2.354])\n",
    "plt.xlim(2.345,2.355)\n",
    "plt.xlabel(r'$\\alpha$', fontsize=16)\n",
    "plt.ylabel(r'$\\cal L($Data$;\\alpha)$', fontsize=16)\n",
    "plt.show()"
   ]
  },
  {
   "cell_type": "markdown",
   "metadata": {},
   "source": [
    "Now we can run the same example using a Hamiltonian MC.  This means that, instead of our next guess being completely random, it will be instructed by the gradient of the log-likelihood:\n",
    "\n",
    "$log \\cal{L} = $ \n",
    "\n",
    "$\\frac{\\partial log\\cal{L}}{\\partial\\alpha} = $\n",
    "\n",
    "First, we will need a function that evaluates this gradient."
   ]
  },
  {
   "cell_type": "code",
   "execution_count": 30,
   "metadata": {
    "collapsed": true
   },
   "outputs": [],
   "source": [
    "def evaluateGradient(params, D, N, M_min, M_max, logMmin, logMmax):\n",
    "    alpha = params[0]  # extract alpha\n",
    "    grad = logMmin*math.pow(M_min, 1.0-alpha) - logMmax*math.pow(M_max, 1.0-alpha)\n",
    "    grad = 1.0 + grad*(1.0 - alpha)/(math.pow(M_max, 1.0-alpha)\n",
    "            - math.pow(M_min, 1.0-alpha))\n",
    "    grad = -D - N*grad/(1.0 - alpha)\n",
    "    return np.array(grad)"
   ]
  },
  {
   "cell_type": "markdown",
   "metadata": {},
   "source": [
    "Then, like before, we need to initialize our chain and set a stepsize:"
   ]
  },
  {
   "cell_type": "code",
   "execution_count": 31,
   "metadata": {
    "collapsed": true
   },
   "outputs": [],
   "source": [
    "guess = [3.0]\n",
    "A = [guess]\n",
    "# define stepsize of HMC.\n",
    "stepsize = 0.0000025\n",
    "accepted  = 0.0"
   ]
  },
  {
   "cell_type": "markdown",
   "metadata": {},
   "source": [
    "The last thing we are going to need is an algorithm that evolves the dynamics of the system according to its \"Hamiltonian\", in this case the gradient of the log likelihood function.  Here we are going to use the Leapfrog algorithm, commonly used to integrate Hamiltonian systems since it exactly preserves energy at the end of each step.\n",
    "\n",
    "Leapfrog integrates the equations of motion of a system by splitting the time step, dt, into two halves.  In short, the algorithm can be summarized as follows:\n",
    "\n",
    "Starting from an initial condition (${\\bf{x_0,p_0}}$),\n",
    "\n",
    "1. Take half a step to update the momentum: \n",
    "\n",
    "$p_i(t+dt/2) = p_i(t) - dt/2\\frac{\\partial U}{\\partial x_i(t)}$\n",
    "\n",
    "2. Take an entire step to update the position:\n",
    "\n",
    "$x_i(t+dt) = x_i(t) + dt\\frac{\\partial K}{\\partial p_i(t+dt/2)}$\n",
    "\n",
    "3. Take the other half step to update the momentum:\n",
    "\n",
    "$p_i(t+dt) = p_i(t+dt/2) - dt/2\\frac{\\partial U}{\\partial x_i(t+dt)}$\n",
    "\n"
   ]
  },
  {
   "cell_type": "code",
   "execution_count": 32,
   "metadata": {},
   "outputs": [
    {
     "name": "stdout",
     "output_type": "stream",
     "text": [
      "Acceptance rate = 0.961003899610039\n"
     ]
    }
   ],
   "source": [
    "import copy\n",
    "\n",
    "# Hamiltonian Monte-Carlo.\n",
    "for n in range(10000):\n",
    "    old_alpha  = A[len(A)-1]\n",
    "    # Remember, energy = -loglik\n",
    "    old_energy = -evaluateLogLikelihood(old_alpha, D, N, M_min, M_max)\n",
    "    old_grad   = -evaluateGradient(old_alpha, D, N, M_min, M_max, log_M_min, log_M_max)\n",
    "\n",
    "    new_alpha = copy.copy(old_alpha)  # deep copy of array\n",
    "    new_grad  = copy.copy(old_grad)   # deep copy of array\n",
    "    # Suggest new candidate using gradient + Hamiltonian dynamics.\n",
    "    # draw random momentum vector from unit Gaussian.\n",
    "    p = random.gauss(0.0, 1.0)\n",
    "    H = np.dot(p,p)/2.0 + old_energy    # compute Hamiltonian\n",
    "\n",
    "    # Do 20 Leapfrog steps.\n",
    "    for tau in range(20):\n",
    "        # make half step in p\n",
    "        p         = p - stepsize*new_grad/2.0\n",
    "        # make full step in alpha\n",
    "        new_alpha = new_alpha + stepsize*p\n",
    "        # compute new gradient\n",
    "        new_grad  = -evaluateGradient(old_alpha, D, N, M_min,\n",
    "                         M_max, log_M_min, log_M_max)\n",
    "        # make half step in p\n",
    "        p         = p - stepsize*new_grad/2.0\n",
    "\n",
    "    # Compute new Hamiltonian. Remember, energy = -loglik.\n",
    "    new_energy = -evaluateLogLikelihood(new_alpha, D, N, M_min,\n",
    "                     M_max)\n",
    "    newH       = np.dot(p,p)/2.0 + new_energy\n",
    "    dH         = newH - H\n",
    "\n",
    "    # Accept new candidate in Monte-Carlo fashion.\n",
    "    if (dH < 0.0):\n",
    "        A.append(new_alpha)\n",
    "        accepted = accepted + 1.0\n",
    "    else:\n",
    "        u = random.uniform(0.0,1.0)\n",
    "        if (u < math.exp(-dH)):\n",
    "            A.append(new_alpha)\n",
    "            accepted = accepted + 1.0\n",
    "        else:\n",
    "            A.append(old_alpha)\n",
    "\n",
    "print(\"Acceptance rate = \"+str(accepted/float(len(A))))"
   ]
  },
  {
   "cell_type": "code",
   "execution_count": 34,
   "metadata": {},
   "outputs": [
    {
     "name": "stdout",
     "output_type": "stream",
     "text": [
      "Mean:  2.36575509311\n",
      "Sigma: 0.0122022633991\n"
     ]
    }
   ],
   "source": [
    "# Discard first half of MCMC chain and thin out the rest.\n",
    "Clean = []\n",
    "for n in range(len(A)//2,len(A)):\n",
    "    if (n % 10 == 0):\n",
    "        Clean.append(A[n][0])\n",
    "        \n",
    "# Print Monte-Carlo estimate of alpha.\n",
    "print(\"Mean:  \"+str(np.mean(Clean)))\n",
    "print(\"Sigma: \"+str(np.std(Clean)))"
   ]
  },
  {
   "cell_type": "code",
   "execution_count": 35,
   "metadata": {},
   "outputs": [
    {
     "data": {
      "image/png": "[encoded data removed]",
      "text/plain": [
       "<matplotlib.figure.Figure at 0x11752a588>"
      ]
     },
     "metadata": {},
     "output_type": "display_data"
    }
   ],
   "source": [
    "plt.figure(1)\n",
    "plt.hist(Clean, 20, histtype='step', lw=2)\n",
    "plt.xlim(2.32,2.38)\n",
    "plt.xlabel(r'$\\alpha$', fontsize=16)\n",
    "plt.ylabel(r'$\\cal L($Data$;\\alpha)$', fontsize=16)\n",
    "plt.show()\n"
   ]
  },
  {
   "cell_type": "code",
   "execution_count": null,
   "metadata": {
    "collapsed": true
   },
   "outputs": [],
   "source": []
  },
  {
   "cell_type": "code",
   "execution_count": null,
   "metadata": {
    "collapsed": true
   },
   "outputs": [],
   "source": []
  }
 ],
 "metadata": {
  "anaconda-cloud": {},
  "kernelspec": {
   "display_name": "Python 3",
   "language": "python",
   "name": "python3"
  },
  "language_info": {
   "codemirror_mode": {
    "name": "ipython",
    "version": 3
   },
   "file_extension": ".py",
   "mimetype": "text/x-python",
   "name": "python",
   "nbconvert_exporter": "python",
   "pygments_lexer": "ipython3",
   "version": "3.6.1"
  }
 },
 "nbformat": 4,
 "nbformat_minor": 1
}
