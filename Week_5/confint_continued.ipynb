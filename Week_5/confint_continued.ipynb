{
 "cells": [
  {
   "cell_type": "markdown",
   "metadata": {},
   "source": [
    "# Previous week's highlights\n",
    "\n",
    "\n",
    "## Mean, standard deviation, SE(M)\n",
    "\n",
    "The sample mean:\n",
    "\n",
    "\n",
    "$$\\bar{x} = \\frac{1}{N} \\sum\\limits_{i=1}^{N} x_i$$\n",
    "\n",
    "which is the unbiased estimator of the population mean:\n",
    "\n",
    "$$E\\left(\\bar{x}\\right) = \\mu$$\n",
    "\n",
    "\n",
    "**Sample Standard deviation**:  $$ s^2 = \\frac{1}{N-1} \\sum\\limits_{i=1}^{N} \\left(x_i - \\bar{x}\\right)^2 $$\n",
    "\n",
    "which is the unbiased estimator of the population standard deviation $\\sigma$ (Bessel's correction):\n",
    "\n",
    "$$E\\left(s\\right) = \\sigma$$\n",
    "\n",
    "**Population Standard deviation**:  $$ \\sigma^2 = \\frac{1}{N} \\sum\\limits_{i=1}^{N} \\left({x_i} - \\mu\\right)^2 $$\n",
    "\n",
    "\n",
    "\n",
    "**Standard error of the mean (SEM)**:  $$SE(\\bar{x}) = \\frac{\\sigma}{\\sqrt{N}}$$\n",
    "\n",
    "\n",
    "\n",
    "##Central Limit Theorem\n",
    "\n",
    "\n",
    "\"Given a population with a finite mean μ and a finite non-zero variance σ$^2$, the sampling distribution of the mean approaches a normal distribution as N increases.\"\n",
    "\n",
    "\n",
    "\n",
    "\n",
    "## Confidence intervals\n",
    "\n",
    "\n",
    "\n",
    "### Approaching a distribution by assuming normality:\n",
    "\n",
    "- When $\\sigma$ is known:\n",
    "\n",
    "\n",
    "$$\\bar{x} \\pm z^* \\frac{\\sigma}{\\sqrt{N}} \\qquad \\equiv \\qquad \\bar{x} \\pm z^* \\times SE\\left(\\bar{x}\\right)$$\n",
    "\n",
    "where z$^*$ is the critical value of the confidence intervals (the number of standard errors to be added and subtracted in order to achieve the desired confidence level/percentage confidence we want)\n",
    "\n",
    "- When $\\sigma$ is unknown (usage of the Student's t approximation - for samples with $N < 30$):\n",
    "\n",
    "$$\\bar{x} \\pm t_c\\left(\\frac{a}{2}, N-1\\right) \\frac{s}{\\sqrt{N}} \\qquad \\equiv \\qquad \\bar{x} \\pm t_c \\times SE\\left(\\bar{x}\\right)$$\n",
    "\n",
    "where $t_c$ is a critical value that depends on the requested significance level $a$ (or equivalently the confidence level $C = 1-a$) and the degrees of freedom (here $N-1$)\n",
    "\n",
    "\n",
    "### When we cannot approach a distribution..?\n",
    "\n",
    "We bootstrap...\n",
    "\n",
    "\n",
    "\n",
    "## Let's see all that on an example regarding distance uncertainties\n",
    "\n",
    "\n",
    "In Leonidaki et al. (2013), numerous SNRs were detected in NGC 2403. The luminosities of the SNR population were computed using the distance of 3.2 Mpc, taken from Freedman & Madore (1988) which was calculated based on I-band photometry of 8 Cepheids.\n",
    "\n",
    "Taking advantage of Konstantinos' work on gathering all available distances for a large number of galaxies, let's compare the distance value we used with a mean value from a larger sample of data.\n",
    "\n",
    "\n",
    "\n"
   ]
  },
  {
   "cell_type": "code",
   "execution_count": null,
   "metadata": {
    "collapsed": true
   },
   "outputs": [],
   "source": [
    "# Load needed libraries\n",
    "\n",
    "import numpy as np\n",
    "import matplotlib.pyplot as plt\n",
    "import scipy.stats as st\n",
    "import glob\n",
    "import math\n",
    "\n",
    "%matplotlib inline"
   ]
  },
  {
   "cell_type": "code",
   "execution_count": null,
   "metadata": {
    "collapsed": false
   },
   "outputs": [],
   "source": [
    "# Load up the data for NGC 2403:\n",
    "\n",
    " \n",
    "\n",
    "# Check the length of the dataset:\n",
    "\n",
    "print(\"Number of all available distances for NGC2403:\", len(NGC2403_dist))\n",
    "\n",
    "# Find the mean, standard deviation and SEM:\n",
    "\n",
    "\n",
    "\n",
    "\n",
    "# Now, let's plot a histogram\n",
    "\n",
    "plt.hist(NGC2403_dist, normed=True, color='b', alpha=0.5, \\bins=10)\n",
    "plt.title(\"All available distances for NGC2403\")\n",
    "plt.show()\n"
   ]
  },
  {
   "cell_type": "markdown",
   "metadata": {},
   "source": [
    "### Confidence levels"
   ]
  },
  {
   "cell_type": "code",
   "execution_count": null,
   "metadata": {
    "collapsed": false
   },
   "outputs": [],
   "source": [
    "#Compute the desired confidence interval:\n",
    "\n",
    "confidence_level=0.99\n",
    "\n",
    "CI_norm= st.norm.interval(confidence_level, loc = , scale = )\n",
    "print(\"Confidence levels at\", confidence_level * 100, \"%:\", CI_norm)\n",
    "\n",
    "\n",
    "# Plot the histogram and an assumed normal distribution:\n",
    "\n",
    "\n",
    "plt.title(\"All available distances for NGC2403\")\n",
    "\n",
    "\n",
    "\n",
    "\n",
    "#NGC2403 distance that was used in Leonidaki et al. (2013)\n",
    "x_mine=3.2\n",
    "mu_K=3.175\n",
    "\n",
    "# LINES\n",
    "plt.axvline(mu, ymin=0., ymax = 1.0, linewidth=1.2, color='k')\n",
    "plt.axvline(CI_norm[0], ymin=0., ymax = 1.0, linestyle='--', linewidth=1.0, color='black')\n",
    "plt.axvline(CI_norm[1], ymin=0., ymax = 1.0, linestyle='--', linewidth=1.0, color='black')\n",
    "plt.axvline(x_mine, ymin=0., ymax = 1.0, linestyle='--', linewidth=1.0, color='red')\n",
    "plt.axvline(mu_K, ymin=0., ymax = 1.0, linewidth=1.2, color='green')\n",
    "plt.show()"
   ]
  },
  {
   "cell_type": "code",
   "execution_count": null,
   "metadata": {
    "collapsed": false
   },
   "outputs": [],
   "source": [
    "ratio=[]\n",
    "for i in open('ratios_Ha'):\n",
    "    splitline1 = i.split()\n",
    "    ratio.append(float(splitline1[0]))\n",
    "\n",
    "N=len(ratio)\n",
    "data_median=np.median(ratio) \n",
    "data_std= np.std(ratio) \n",
    "\n",
    " \n",
    "print(\"data median and std:\", data_median, data_std)\n",
    "plt.axis([0.1,0.5,0,250])\n",
    "plt.hist(ratio,500, histtype = \"step\")\n",
    "plt.axvline(x=data_median, color='r')\n",
    "plt.show()"
   ]
  },
  {
   "cell_type": "markdown",
   "metadata": {},
   "source": [
    "### Bootstrap\n",
    "\n",
    "Bootsrapping is a resampling (with replacement) method. As we saw before, by drawing many samples we can approximate the sampling distribution of the mean which is impossible for real data without the assumption of a distribution.\n",
    "\n",
    "Bootstrap method is based on randomly constructing $B$ samples from the original one, by sampling with replacement from the latter. The size of the resamples should be equal to the size of the original sample. For example, with the sample $X$ below, we can create $B = 5$ new samples $Y_i$:\n",
    "\n",
    "$$X = \\left[1, 8, 3, 4, 7\\right]$$\n",
    "\n",
    "$$\\begin{align}\n",
    "Y_1 &= \\left[8, 3, 3, 7, 1\\right] \\\\\n",
    "Y_2 &= \\left[3, 1, 4, 4, 1\\right] \\\\\n",
    "Y_3 &= \\left[3, 7, 1, 8, 7\\right] \\\\\n",
    "Y_4 &= \\left[7, 7, 4, 3, 1\\right] \\\\\n",
    "Y_5 &= \\left[1, 7, 8, 3, 4\\right]\n",
    "\\end{align}$$\n",
    "\n",
    "Then, we compute the desired sample statistic for each of those samples to form an empirical sampling distribution. The standard deviation of the $B$ sample statistics is the bootstrap estimate of the standard error of the statistic."
   ]
  },
  {
   "cell_type": "code",
   "execution_count": null,
   "metadata": {
    "collapsed": false
   },
   "outputs": [],
   "source": [
    "boot_samples = np.random.choice(ratio, (10000, N), replace = True)\n",
    "m_boot = np.median(boot_samples, axis = 1)\n",
    "\n",
    "plt.figure(figsize = [12, 4])\n",
    "plt.subplot(1, 2, 1)\n",
    "plt.hist(m_boot,histtype = \"step\")\n",
    "plt.title(\"Distribution of median values (DMV)\")\n",
    "plt.subplot(1, 2, 2)\n",
    "plt.axis([0.22,0.37,0,600])\n",
    "plt.hist(m_boot,500,histtype = \"step\", color='b')\n",
    "plt.hist(ratio,500, histtype =\"step\", color='g')\n",
    "plt.title(\"DMV-Data histogram\")\n",
    "plt.show()\n",
    "\n",
    "print(\"std_bootstrap:\", np.std(m_boot))"
   ]
  },
  {
   "cell_type": "code",
   "execution_count": null,
   "metadata": {
    "collapsed": false
   },
   "outputs": [],
   "source": [
    "# compute 95% confidence intervals around the median  \n",
    "CI95s = #........................#\n",
    "print(\"95% confidence interval:\\nLow:\", CI95s[0], \"\\nHigh:\", CI95s[1])\n",
    "print()\n",
    "# 80% confidence interval  \n",
    "CI80s = #........................#\n",
    "print(\"80% confidence interval: \\nLow:\", CI80s[0], \"\\nHigh:\", CI80s[1])\n",
    "print()\n",
    "# 68% confidence interval  \n",
    "CI68s = #........................#\n",
    "print(\"68% confidence interval: \\nLow:\", CI68s[0], \"\\nHigh:\", CI68s[1])"
   ]
  },
  {
   "cell_type": "markdown",
   "metadata": {},
   "source": [
    "### Jackknife resampling\n",
    "\n",
    "This older method inspired the Bootstrap which can be seen as a generalization (Jackknife is the linear approximation of Bootstrap.) It estimates the sampling distribution of a parameter on an $N$-sized sample through a collection of $N$ sub-samples by removing one element at a time.\n",
    "\n",
    "E.g. the sample $X$ leads to the <b>Jackknife samples</b> $Y_i$:\n",
    "\n",
    "$$ X = \\left[1, 7, 3\\right] $$\n",
    "\n",
    "$$\n",
    "\\begin{align}\n",
    "Y_1 &= \\left[7, 3\\right] \\\\\n",
    "Y_2 &= \\left[1, 3\\right] \\\\\n",
    "Y_3 &= \\left[1, 7\\right]\n",
    "\\end{align}\n",
    "$$\n",
    "\n",
    "The <b>Jackknife Replicate</b> $\\hat\\theta_{\\left(i\\right)}$ is the value of the estimator of interest $f(x)$ (e.g. mean, median, skewness) for the $i$-th subsample and $\\hat\\theta_{\\left(\\cdot\\right)}$ is the sample mean of all replicates:\n",
    "\n",
    "$$\n",
    "\\begin{align}\n",
    "\\hat\\theta_{\\left(i\\right)} &= f\\left(Y_i\\right) \\\\\n",
    "\\hat\\theta_{\\left(\\cdot\\right)} &= \\frac{1}{N}\\sum\\limits_{i=1}^N {\\hat\\theta_{\\left(i\\right)}}\n",
    "\\end{align}\n",
    "$$\n",
    "\n",
    "and the <b>Jackknife Standard Error</b> of $\\hat\\theta$ is computed using the formula:\n",
    " \n",
    "$$ SE_{jack}(\\hat\\theta) = \\sqrt{\\frac{N-1}{N}\\sum\\limits_{i=1}^N \\left[\\hat{\\theta}\\left(Y_i\\right) - \\hat\\theta_{\\left(\\cdot\\right)} \\right]^2} = \\cdots = \\frac{N-1}{\\sqrt{N}} s$$\n",
    "\n",
    "where $s$ is the standard deviation of the replicates."
   ]
  },
  {
   "cell_type": "code",
   "execution_count": null,
   "metadata": {
    "collapsed": false
   },
   "outputs": [],
   "source": [
    "def jackknife(x):\n",
    "    return [[x[j] for j in range(len(x)) if j != i] for i in range(len(x))]\n",
    "\n",
    "jack_samples = jackknife(ratio)\n",
    "jack_medians = np.median(jack_samples, axis = 1)\n",
    "SE_median_jack = np.std(jack_medians) * (N - 1.0) / np.sqrt(N)\n",
    "print(\"std_jackknife:\",SE_median_jack)\n",
    "\n",
    "plt.hist(jack_medians,histtype = \"step\")\n",
    "plt.show()"
   ]
  },
  {
   "cell_type": "markdown",
   "metadata": {},
   "source": [
    "<b> Why this distribution..?</b>"
   ]
  }
 ],
 "metadata": {
  "anaconda-cloud": {},
  "kernelspec": {
   "display_name": "Python 2",
   "language": "python",
   "name": "python2"
  },
  "language_info": {
   "codemirror_mode": {
    "name": "ipython",
    "version": 2
   },
   "file_extension": ".py",
   "mimetype": "text/x-python",
   "name": "python",
   "nbconvert_exporter": "python",
   "pygments_lexer": "ipython2",
   "version": "2.7.6"
  }
 },
 "nbformat": 4,
 "nbformat_minor": 0
}
