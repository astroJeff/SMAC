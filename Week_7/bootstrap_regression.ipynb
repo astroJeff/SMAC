{
 "cells": [
  {
   "cell_type": "code",
   "execution_count": 5,
   "metadata": {
    "collapsed": false
   },
   "outputs": [
    {
     "data": {
      "image/png": "[encoded data removed]",
      "text/plain": [
       "<matplotlib.figure.Figure at 0x7fe82e024250>"
      ]
     },
     "metadata": {},
     "output_type": "display_data"
    }
   ],
   "source": [
    "import numpy as np\n",
    "from scipy import optimize\n",
    "import matplotlib.pyplot as plt\n",
    "import random\n",
    "\n",
    "def f( x, p0, p1, p2):\n",
    "    return p0*x + 0.4*np.sin(p1*x) + p2\n",
    "\n",
    "def ff(x, p):\n",
    "    return f(x, *p)\n",
    "\n",
    "# These are the true parameters\n",
    "p0 = 1.0\n",
    "p1 = 40\n",
    "p2 = 2.0\n",
    "\n",
    "# These are initial guesses for fits:\n",
    "pstart = [\n",
    "    p0 + random.random(),\n",
    "    p1 + 5.*random.random(), \n",
    "    p2 + random.random()\n",
    "]\n",
    "\n",
    "xvals = np.linspace(0., 1, 120)\n",
    "yvals = f(xvals, p0, p1, p2)\n",
    "\n",
    "# Generate data with a bit of randomness\n",
    "xdata = np.array(xvals)\n",
    "err_stdev = 10\n",
    "yvals_err =  np.random.normal(0., err_stdev, len(xdata))\n",
    "ydata = f(xdata, p0, p1, p2) + yvals_err\n",
    "\n",
    "plt.plot(xvals, yvals)\n",
    "plt.plot(xdata, ydata, 'o', mfc='None')\n",
    "plt.show()"
   ]
  },
  {
   "cell_type": "code",
   "execution_count": 10,
   "metadata": {
    "collapsed": false
   },
   "outputs": [
    {
     "name": "stdout",
     "output_type": "stream",
     "text": [
      "true parameters=  p0=1 p1=40 p2= 2.0\n",
      "fitted parameters= [ -1.62422417  38.78698244   3.61810464]\n",
      "error=  [ 2.77381878  4.94050559  1.59838754]\n",
      "fractional difference 0.946069077562 0.245524984391 1.01233561756\n"
     ]
    }
   ],
   "source": [
    "def fit_leastsq(p0, datax, datay, function):\n",
    "\n",
    "    errfunc = lambda p, x, y: function(x,p) - y\n",
    "\n",
    "    pfit, pcov, infodict, errmsg, success = \\\n",
    "        optimize.leastsq(errfunc, p0, args=(datax, datay), \\\n",
    "                          full_output=1, epsfcn=0.0001)\n",
    "\n",
    "    if (len(datay) > len(p0)) and pcov is not None:\n",
    "        s_sq = (errfunc(pfit, datax, datay)**2).sum()/(len(datay)-len(p0))\n",
    "        pcov = pcov * s_sq\n",
    "    else:\n",
    "        pcov = np.inf\n",
    "\n",
    "    error = [] \n",
    "    for i in range(len(pfit)):\n",
    "        try:\n",
    "          error.append(np.absolute(pcov[i][i])**0.5)\n",
    "        except:\n",
    "          error.append( 0.00 )\n",
    "    pfit_leastsq = pfit\n",
    "    perr_leastsq = np.array(error) \n",
    "    return pfit_leastsq, perr_leastsq \n",
    "\n",
    "pfit, perr = fit_leastsq(pstart, xdata, ydata, ff)\n",
    "\n",
    "\n",
    "print 'true parameters= ', 'p0=1', 'p1=40', 'p2=',p2\n",
    "print \"fitted parameters=\", pfit\n",
    "print \"error= \", perr\n",
    "\n",
    "print \"fractional difference\", abs(pfit[0]-p0)/perr[0], abs(pfit[1]-p1)/perr[1], abs(pfit[2]-p2)/perr[2]"
   ]
  },
  {
   "cell_type": "code",
   "execution_count": 8,
   "metadata": {
    "collapsed": false
   },
   "outputs": [
    {
     "name": "stdout",
     "output_type": "stream",
     "text": [
      "true parameters=  p0=1.0 p1=40 p2=2.0\n",
      "fitted parameters= [ -1.62422417  38.78698244   3.61810464]\n",
      "error=  [ 2.77381878  4.94050559  1.59838754]\n",
      "fractional difference 0.946069077562 0.245524984391 1.01233561756\n"
     ]
    }
   ],
   "source": [
    "def fit_curvefit(p0, datax, datay, function, yerr=err_stdev, **kwargs):\n",
    "\n",
    "    pfit, pcov = \\\n",
    "         optimize.curve_fit(f,datax,datay,p0=p0,\\\n",
    "                            sigma=yerr, epsfcn=0.0001, **kwargs)\n",
    "    error = [] \n",
    "    for i in range(len(pfit)):\n",
    "        try:\n",
    "          error.append(np.absolute(pcov[i][i])**0.5)\n",
    "        except:\n",
    "          error.append( 0.00 )\n",
    "    pfit_curvefit = pfit\n",
    "    perr_curvefit = np.array(error)\n",
    "    return pfit_curvefit, perr_curvefit \n",
    "\n",
    "pfit, perr = fit_curvefit(pstart, xdata, ydata, ff)\n",
    "\n",
    "print 'true parameters= ', 'p0=1.0', 'p1=40', 'p2=2.0'\n",
    "print \"fitted parameters=\", pfit\n",
    "print \"error= \", perr\n",
    "print \"fractional difference\", abs(pfit[0]-p0)/perr[0], abs(pfit[1]-p1)/perr[1], abs(pfit[2]-p2)/perr[2]"
   ]
  },
  {
   "cell_type": "code",
   "execution_count": 9,
   "metadata": {
    "collapsed": false
   },
   "outputs": [
    {
     "name": "stdout",
     "output_type": "stream",
     "text": [
      "true parameters=  p0=1.0 p1=40 p2=2.0\n",
      "fitted parameters= [ -1.99208518  41.34906737   3.75325395]\n",
      "error=  [ 2.83401584  4.92331379  1.61121034]\n",
      "fractional difference 1.05577574495 0.274016126002 1.08815956762\n"
     ]
    }
   ],
   "source": [
    "def fit_bootstrap(p0, datax, datay, function, yerr_systematic=0.0):\n",
    "\n",
    "    errfunc = lambda p, x, y: function(x,p) - y\n",
    "\n",
    "    # Fit first time\n",
    "    pfit, perr = optimize.leastsq(errfunc, p0, args=(datax, datay), full_output=0)\n",
    "\n",
    "\n",
    "    # Get the stdev of the residuals\n",
    "    residuals = errfunc(pfit, datax, datay)\n",
    "    sigma_res = np.std(residuals)\n",
    "\n",
    "    sigma_err_total = np.sqrt(sigma_res**2 + yerr_systematic**2)\n",
    "\n",
    "    # 100 random data sets are generated and fitted\n",
    "    ps = []\n",
    "    for i in range(100):\n",
    "\n",
    "        randomDelta = np.random.normal(0., sigma_err_total, len(datay))\n",
    "        randomdataY = datay + randomDelta\n",
    "\n",
    "        randomfit, randomcov = \\\n",
    "            optimize.leastsq(errfunc, p0, args=(datax, randomdataY),\\\n",
    "                             full_output=0)\n",
    "\n",
    "        ps.append(randomfit) \n",
    "\n",
    "    ps = np.array(ps)\n",
    "    mean_pfit = np.mean(ps,0)\n",
    "\n",
    "    # You can choose the confidence interval that you want for your\n",
    "    # parameter estimates: \n",
    "    Nsigma = 1. # 1sigma gets approximately the same as methods above\n",
    "                # 1sigma corresponds to 68.3% confidence interval\n",
    "                # 2sigma corresponds to 95.44% confidence interval\n",
    "    err_pfit = Nsigma * np.std(ps,0) \n",
    "\n",
    "    pfit_bootstrap = mean_pfit\n",
    "    perr_bootstrap = err_pfit\n",
    "    return pfit_bootstrap, perr_bootstrap \n",
    "\n",
    "pfit, perr = fit_bootstrap(pstart, xdata, ydata, ff)\n",
    "\n",
    "print 'true parameters= ', 'p0=1.0', 'p1=40', 'p2=2.0'\n",
    "print \"fitted parameters=\", pfit\n",
    "print \"error= \", perr\n",
    "\n",
    "print \"fractional difference\", abs(pfit[0]-p0)/perr[0], abs(pfit[1]-p1)/perr[1], abs(pfit[2]-p2)/perr[2]"
   ]
  },
  {
   "cell_type": "code",
   "execution_count": null,
   "metadata": {
    "collapsed": true
   },
   "outputs": [],
   "source": []
  }
 ],
 "metadata": {
  "kernelspec": {
   "display_name": "Python 2",
   "language": "python",
   "name": "python2"
  },
  "language_info": {
   "codemirror_mode": {
    "name": "ipython",
    "version": 2
   },
   "file_extension": ".py",
   "mimetype": "text/x-python",
   "name": "python",
   "nbconvert_exporter": "python",
   "pygments_lexer": "ipython2",
   "version": "2.7.12"
  }
 },
 "nbformat": 4,
 "nbformat_minor": 2
}
