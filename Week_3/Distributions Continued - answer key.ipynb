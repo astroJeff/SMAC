{
 "cells": [
  {
   "cell_type": "markdown",
   "metadata": {},
   "source": [
    "# Week 3: Distributions Continued"
   ]
  },
  {
   "cell_type": "markdown",
   "metadata": {},
   "source": [
    "## Recall from last week"
   ]
  },
  {
   "cell_type": "markdown",
   "metadata": {},
   "source": [
    "We are going to continue with our discussion from last week on distributions. To rehash... __there are lots of different distributions__. The most common used in astronomy are the Gaussian (normal), power law, binomial, Poisson, and Lorentz.\n",
    "\n",
    "When working with a data set we may be faced __two questions__:  \n",
    "- Is a set of samples consistent with following one of these distributions?  \n",
    "- Are two sets of samples drawn from the same distribution?  \n",
    "\n",
    "The tests discussed last week should help us answer these questions. Depending on the situation, __different tests may be appropriate__. The table below should help answer these questions."
   ]
  },
  {
   "cell_type": "markdown",
   "metadata": {},
   "source": [
    "### Comparing a data set to a known (analytic) distribution"
   ]
  },
  {
   "cell_type": "markdown",
   "metadata": {},
   "source": [
    "- $\\chi$^2: Widely used, rigorously defined for known, Gaussian uncertainties.\n",
    "- Kolmogorov-Smirnov (KS): Widely used, compares maximum difference in CDF. Not great for small numbers or outliers.\n",
    "- Anderson-Darling: Integrated version of the KS test. Therefore better than KS for small numbers and outliers.\n",
    "- t-test: Determines whether a data set could be consistent with having a mean at some value."
   ]
  },
  {
   "cell_type": "markdown",
   "metadata": {},
   "source": [
    "### Comparing two data sets"
   ]
  },
  {
   "cell_type": "markdown",
   "metadata": {},
   "source": [
    "- Mann-Whitney U (Wilcox rank sum): Assumes nothing about underlying distributions. Really only compares the medians.\n",
    "- Kolmogorov-Smirnov (KS): Widely used, compares maximum difference in CDF. Not great for small numbers of outliers.\n",
    "- Anderson-Darling: Integrated version of the KS test. Therefore better than KS for small numbers and outliers.\n",
    "- t-test: Tests if the means of two (assumed to be Gaussian) distributions equal. Distributions may have different variances - math is slightly different.\n",
    "- F-test: Tests if the means of two Gaussian distributions are equal."
   ]
  },
  {
   "cell_type": "markdown",
   "metadata": {},
   "source": [
    "### Correlation tests"
   ]
  },
  {
   "cell_type": "markdown",
   "metadata": {},
   "source": [
    "- Pearson r or $\\rho$: Widely used, simple to implement. Easily skewed by outliers. Works for linear correlations.\n",
    "- Spearman r or $\\rho$: Handles outliers better. Linear not required -> works for any monotonic function.\n",
    "- Kendall $\\tau$: Also a rank test. Used to determine whether two variables are independent."
   ]
  },
  {
   "cell_type": "markdown",
   "metadata": {},
   "source": [
    "## Now, on to a few examples"
   ]
  },
  {
   "cell_type": "code",
   "execution_count": 1,
   "metadata": {
    "collapsed": true
   },
   "outputs": [],
   "source": [
    "# First, let's load the libraries we will need\n",
    "import numpy as np\n",
    "import matplotlib.pyplot as plt\n",
    "from scipy import stats\n",
    "\n",
    "%matplotlib inline"
   ]
  },
  {
   "cell_type": "markdown",
   "metadata": {},
   "source": [
    "### Exercise 1: Characterizing two distributions"
   ]
  },
  {
   "cell_type": "code",
   "execution_count": 74,
   "metadata": {
    "collapsed": false
   },
   "outputs": [
    {
     "data": {
      "image/png": "[encoded data removed]",
      "text/plain": [
       "<matplotlib.figure.Figure at 0x7fcd8ef7e128>"
      ]
     },
     "metadata": {},
     "output_type": "display_data"
    }
   ],
   "source": [
    "# sample = np.random.normal(loc=4.0, scale=1.5, size=30)\n",
    "# plt.hist(sample, normed=True)\n",
    "\n",
    "x = np.linspace(-2, 12.0, 100)\n",
    "\n",
    "\n",
    "y = stats.norm.pdf(x, loc=6.0, scale=1.5)\n",
    "plt.plot(x, y, color='r')\n",
    "y = stats.norm.rvs(loc=6.0, scale=1.5, size=20)\n",
    "plt.hist(y, normed=True, color='r', \n",
    "         alpha=0.3)\n",
    "np.savetxt(\"../data/Week_3/sample_1.dat\", y)\n",
    "\n",
    "\n",
    "y = stats.cauchy.pdf(x, loc=6.0, scale=1.0)\n",
    "plt.plot(x,y, color='g')\n",
    "y = stats.cauchy.rvs(loc=6.0, scale=1.0, size=20)\n",
    "plt.hist(y, normed=True, color='g', alpha=0.3)\n",
    "np.savetxt(\"../data/Week_3/sample_2.dat\", y)\n",
    "\n",
    "\n",
    "plt.xlim(-1.0, 14.0)\n",
    "plt.show()"
   ]
  },
  {
   "cell_type": "code",
   "execution_count": 77,
   "metadata": {
    "collapsed": false
   },
   "outputs": [
    {
     "name": "stdout",
     "output_type": "stream",
     "text": [
      "Data set 1 has 20 elements\n",
      "Data set 2 has 20 elements\n"
     ]
    }
   ],
   "source": [
    "folder = \"../data/Week_3/\"\n",
    "\n",
    "sample_1 = np.genfromtxt(folder + \"sample_1.dat\")\n",
    "sample_2 = np.genfromtxt(folder + \"sample_2.dat\")\n",
    "\n",
    "# Let's see how big the data sets are\n",
    "print(\"Data set 1 has\", len(sample_1), \"elements\")\n",
    "print(\"Data set 2 has\", len(sample_2), \"elements\")"
   ]
  },
  {
   "cell_type": "code",
   "execution_count": 80,
   "metadata": {
    "collapsed": false
   },
   "outputs": [
    {
     "data": {
      "image/png": "[encoded data removed]",
      "text/plain": [
       "<matplotlib.figure.Figure at 0x7fcd8f081d30>"
      ]
     },
     "metadata": {},
     "output_type": "display_data"
    }
   ],
   "source": [
    "# Now, let's plot histograms of the two data set to see how they compare\n",
    "plt.hist(sample_1, normed=True, color='r', alpha=0.3, label=\"Sample 1\")\n",
    "plt.hist(sample_2, normed=True, color='g', alpha=0.3, label=\"Sample 2\")\n",
    "\n",
    "plt.legend()\n",
    "plt.show()"
   ]
  },
  {
   "cell_type": "markdown",
   "metadata": {},
   "source": [
    "First, let's see if these two data sets are consistent with being a Gaussian. Let's start with Sample 1."
   ]
  },
  {
   "cell_type": "code",
   "execution_count": 85,
   "metadata": {
    "collapsed": false
   },
   "outputs": [
    {
     "name": "stdout",
     "output_type": "stream",
     "text": [
      "Statistic = 0.685250007509\n",
      "Critical values = [ 0.506  0.577  0.692  0.807  0.96 ]\n",
      "Significance = [ 15.   10.    5.    2.5   1. ]\n"
     ]
    }
   ],
   "source": [
    "# We will use the Anderson-Darling test in the scipy package.\n",
    "\n",
    "statistic, critical_values, significance = stats.anderson(sample_1, dist='norm')\n",
    "\n",
    "print(\"Statistic =\", statistic)\n",
    "print(\"Critical values =\", critical_values)\n",
    "print(\"Significance =\", significance)"
   ]
  },
  {
   "cell_type": "markdown",
   "metadata": {},
   "source": [
    "Since the statistic, 0.685, is larger than 0.577 but smaller than 0.692, the distribution is non-Gaussian only at the 90% to 95% level. The statistic would have to be above 0.96 to be ruled non-Gaussian at the 99% level."
   ]
  },
  {
   "cell_type": "code",
   "execution_count": 84,
   "metadata": {
    "collapsed": false
   },
   "outputs": [],
   "source": [
    "# In this code cell, repeat the same test above with Sample 2\n",
    "\n",
    "\n"
   ]
  },
  {
   "cell_type": "markdown",
   "metadata": {},
   "source": [
    "Now, let's compare the two distributions to each other. Pick two of the tests above and apply them. \n",
    "\n",
    "Remember that in jupyter, it is easy to look up the docs for packages and functions. Look at the following code blocks examples."
   ]
  },
  {
   "cell_type": "code",
   "execution_count": 3,
   "metadata": {
    "collapsed": false
   },
   "outputs": [],
   "source": [
    "stats?"
   ]
  },
  {
   "cell_type": "code",
   "execution_count": 88,
   "metadata": {
    "collapsed": true
   },
   "outputs": [],
   "source": [
    "stats.uniform?"
   ]
  },
  {
   "cell_type": "code",
   "execution_count": 96,
   "metadata": {
    "collapsed": false
   },
   "outputs": [
    {
     "name": "stdout",
     "output_type": "stream",
     "text": [
      "Anderson-Darling Test:\n",
      "Statistic = -0.473498369492\n",
      "Critical values = [ 0.325  1.226  1.961  2.718  3.752]\n",
      "Significance = 0.5729511648872668\n",
      "\n",
      "Kolmogorov-Smirnov:\n",
      "Statistic = 0.25\n",
      "p-value = 0.497342335314\n"
     ]
    },
    {
     "name": "stderr",
     "output_type": "stream",
     "text": [
      "/usr/local/lib/python3.5/dist-packages/scipy/stats/morestats.py:1685: UserWarning: approximate p-value will be computed by extrapolation\n",
      "  warnings.warn(\"approximate p-value will be computed by extrapolation\")\n"
     ]
    }
   ],
   "source": [
    "statistic, critical_values, significance = stats.anderson_ksamp([sample_1, sample_2])\n",
    "print(\"Anderson-Darling Test:\")\n",
    "print(\"Statistic =\", statistic)\n",
    "print(\"Critical values =\", critical_values)\n",
    "print(\"Significance =\", significance)\n",
    "print()\n",
    "\n",
    "statistic, p_value = stats.ks_2samp(sample_1, sample_2)\n",
    "print(\"Kolmogorov-Smirnov:\")\n",
    "print(\"Statistic =\", statistic)\n",
    "print(\"p-value =\", p_value)"
   ]
  },
  {
   "cell_type": "markdown",
   "metadata": {},
   "source": [
    "### Example 2: Using radial velocities to constrain an unseen companion to a star"
   ]
  },
  {
   "cell_type": "markdown",
   "metadata": {},
   "source": [
    "This is an example from my own research. \n",
    "\n",
    "Let's say you have a star that looks strange for some reason, and you want to know that could be because the star is actually a binary system. A faint companion will not appear in the photometry or spectroscopy. However, by taking radial velocities the possibility that the star hosts a companion can be constrained.\n",
    "\n",
    "First, let's load up the radial velocity data and look at it."
   ]
  },
  {
   "cell_type": "code",
   "execution_count": 103,
   "metadata": {
    "collapsed": false
   },
   "outputs": [
    {
     "name": "stdout",
     "output_type": "stream",
     "text": [
      "[('date', '<f8'), ('vel', '<f8'), ('err', '<f8'), ('file_', '<f8')]\n"
     ]
    }
   ],
   "source": [
    "RV = np.genfromtxt(folder + \"RV_sample.dat\", names=True)\n",
    "\n",
    "print(RV.dtype)"
   ]
  },
  {
   "cell_type": "code",
   "execution_count": 117,
   "metadata": {
    "collapsed": false
   },
   "outputs": [
    {
     "data": {
      "image/png": "[encoded data removed]",
      "text/plain": [
       "<matplotlib.figure.Figure at 0x7fcd8ecb3128>"
      ]
     },
     "metadata": {},
     "output_type": "display_data"
    }
   ],
   "source": [
    "fig, ax = plt.subplots(1, 3, figsize=(12,3))\n",
    "\n",
    "ax[0].errorbar(RV[\"date\"], RV['vel'], yerr=RV['err'], fmt='o')\n",
    "ax[0].set_xlim(7215.8, 7216)\n",
    "\n",
    "ax[1].errorbar(RV[\"date\"], RV['vel'], yerr=RV['err'], fmt='o')\n",
    "ax[1].set_xlim(7224.8, 7225.0)\n",
    "\n",
    "ax[2].errorbar(RV[\"date\"], RV['vel'], yerr=RV['err'], fmt='o')\n",
    "ax[2].set_xlim(7311.6, 7311.8)\n",
    "\n",
    "\n",
    "plt.show()"
   ]
  },
  {
   "cell_type": "markdown",
   "metadata": {},
   "source": [
    "Notice the x-axis scale above. There are three different nights of observations with only a handful of observations each night.\n",
    "\n",
    "We want to know if this data is consistent with a single radial velocity."
   ]
  },
  {
   "cell_type": "markdown",
   "metadata": {
    "collapsed": true
   },
   "source": [
    "## Something new: The Central Limit Theorem (CLT)"
   ]
  },
  {
   "cell_type": "markdown",
   "metadata": {},
   "source": [
    "Why are Gaussian distributions so common in nature? \n",
    "\n",
    "Sample from an arbitrary distribution f(x), say N samples, and take their mean. The mean will not necessarily be the same as the mean of f(x). But if you repeat this a number of times, you'lee see that the sample means are distributed *normally* around the mean of f(x) with a standard deviation: $\\sigma_N = \\sigma_{f(x)}/\\sqrt{N}$, where $\\sigma_{f(x)}$ is the spread of the original distribution.\n",
    "\n",
    "Assumptions: \n",
    "* initial distribution has well-defined standard deviation (tails fall of more rapidly than x^-2)\n",
    "* data are uncorrelated\n",
    "\n",
    "### CLT example\n",
    "\n",
    "1. Let's see how the spread of the sample mean changes with the number of samples N. For this example, we will draw many samples from a 'well-behaved' distribution with different sample sizes and see how the sample means are distributed"
   ]
  },
  {
   "cell_type": "code",
   "execution_count": 51,
   "metadata": {
    "collapsed": false
   },
   "outputs": [
    {
     "data": {
      "image/png": "[encoded data removed]",
      "text/plain": [
       "<matplotlib.figure.Figure at 0x532cd90>"
      ]
     },
     "metadata": {},
     "output_type": "display_data"
    }
   ],
   "source": [
    "# Select mean and spread of parent distribution f(x)\n",
    "parent_mean = 6.0\n",
    "parent_spread = 1.5\n",
    "\n",
    "# Number of samples to average\n",
    "N = 10\n",
    "# Draw samples several times to see distribution\n",
    "# define empty list to store sample means\n",
    "sample_means = []\n",
    "# Repeat drawing samples and averaging this many times\n",
    "Nrepeats = 50\n",
    "\n",
    "for i in range(Nrepeats):\n",
    "    # draw N samples\n",
    "    y = stats.norm.rvs(loc=parent_mean, scale=parent_spread, size=N)\n",
    "    # compute their mean\n",
    "    y_mean = np.mean(y)\n",
    "    # collect mean in a list\n",
    "    sample_means.append(y_mean)\n",
    "    \n",
    "# Now select other number of samples to compare\n",
    "N_2 = 100\n",
    "# define empty list to store sample means\n",
    "sample_means_2 = []\n",
    "for i in range(Nrepeats):\n",
    "    y = stats.norm.rvs(loc=parent_mean, scale=parent_spread, size=N_2)\n",
    "    y_mean = np.mean(y)\n",
    "    sample_means_2.append(y_mean)\n",
    "    \n",
    "# Plot histogram of sample means for both cases of N\n",
    "plt.hist(sample_means, histtype = 'step', label = 'N = %d'%N,  bins = 10)\n",
    "plt.hist(sample_means_2, histtype = 'step', label = 'N = %d'%N_2,  bins = 10)\n",
    "# plot also original distribution\n",
    "x = np.linspace(-2, 12.0, 100)\n",
    "plt.plot(x,stats.norm.pdf(x, loc = parent_mean, scale = parent_spread)*Nrepeats)\n",
    "plt.legend()\n",
    "plt.xlabel('$x_{mean}$')\n",
    "plt.ylabel('Frequency of occurences')\n",
    "plt.show()"
   ]
  },
  {
   "cell_type": "markdown",
   "metadata": {},
   "source": [
    "Bonus: the more you repeat the excercise, the more the distribution of sample means approaches Gaussianity (repeat with 500 iterations)."
   ]
  },
  {
   "cell_type": "code",
   "execution_count": 57,
   "metadata": {
    "collapsed": false
   },
   "outputs": [
    {
     "name": "stderr",
     "output_type": "stream",
     "text": [
      "/usr/local/lib/python2.7/dist-packages/ipykernel/__main__.py:19: RuntimeWarning: divide by zero encountered in divide\n"
     ]
    },
    {
     "data": {
      "image/png": "[encoded data removed]",
      "text/plain": [
       "<matplotlib.figure.Figure at 0x4f79790>"
      ]
     },
     "metadata": {},
     "output_type": "display_data"
    }
   ],
   "source": [
    "Ns = [5,10,50,100,200,500]\n",
    "spread = []\n",
    "for N in Ns:\n",
    "    sample_means = []\n",
    "    # Repeat drawing samples and averaging this many times\n",
    "    Nrepeats = 100\n",
    "    for i in range(Nrepeats):\n",
    "        # draw N samples\n",
    "        y = stats.norm.rvs(loc=parent_mean, scale=parent_spread, size=N)\n",
    "        # compute their mean\n",
    "        y_mean = np.mean(y)\n",
    "        # collect mean in a list\n",
    "        sample_means.append(y_mean)\n",
    "    spread.append(np.std(sample_means))\n",
    "    \n",
    "# Plot spread of sample means versus N samples\n",
    "plt.scatter(Ns, spread)\n",
    "xs = np.arange(0,600,10)\n",
    "plt.plot(xs, parent_spread/np.sqrt(xs))\n",
    "plt.ylabel('$\\sigma_N$')\n",
    "plt.xlabel('N samples')\n",
    "plt.show()"
   ]
  },
  {
   "cell_type": "code",
   "execution_count": null,
   "metadata": {
    "collapsed": true
   },
   "outputs": [],
   "source": []
  }
 ],
 "metadata": {
  "kernelspec": {
   "display_name": "Python 2",
   "language": "python",
   "name": "python2"
  },
  "language_info": {
   "codemirror_mode": {
    "name": "ipython",
    "version": 2
   },
   "file_extension": ".py",
   "mimetype": "text/x-python",
   "name": "python",
   "nbconvert_exporter": "python",
   "pygments_lexer": "ipython2",
   "version": "2.7.3"
  }
 },
 "nbformat": 4,
 "nbformat_minor": 2
}
